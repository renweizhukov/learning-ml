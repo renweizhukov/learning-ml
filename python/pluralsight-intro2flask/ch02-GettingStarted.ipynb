{
 "cells": [
  {
   "cell_type": "markdown",
   "metadata": {},
   "source": [
    "# Chapter 2. Getting Started\n",
    "\n",
    "## 2.1 Installation steps\n",
    "\n",
    "### 2.1.1 Install Python and pip\n",
    "\n",
    "(1) Ubuntu has Python pre-installed.\n",
    "\n",
    "(2) Starting with Python 3.4, `pip` comes pre-installed.\n",
    "\n",
    "### 2.1.2 Install virtualenv and virtualenvwrapper\n",
    "\n",
    "```bash\n",
    "$ sudo pip install virtualenv\n",
    "$ sudo pip install virtualenvwrapper\n",
    "```\n",
    "\n",
    "Add the following lines in `~/.bashrc`.\n",
    "\n",
    "```\n",
    "# virtualenv\n",
    "export WORKON_HOME=~/.virtualenvs\n",
    "# Work around for https://stackoverflow.com/questions/33216679/usr-bin-python3-error-while-finding-spec-for-virtualenvwrapper-hook-loader \n",
    "export VIRTUALENVWRAPPER_PYTHON=/usr/bin/python\n",
    "source /usr/local/bin/virtualenvwrapper.sh\n",
    "```\n",
    "\n",
    "### 2.1.3 Create project environment\n",
    "\n",
    "```bash\n",
    "$ mkvirtualenv HelloWorld\n",
    "$ setvirtualenvproject\n",
    "```\n",
    "\n",
    "or \n",
    "\n",
    "```bash\n",
    "$ mkproject HelloWorld\n",
    "```\n",
    "\n",
    "To enter a virtual environment,\n",
    "\n",
    "```bash\n",
    "$ workon HelloWorld\n",
    "```\n",
    "\n",
    "To leave a virtual environment,\n",
    "\n",
    "```bash\n",
    "$ deactivate\n",
    "```\n",
    "\n",
    "### 2.1.4 Install Flask and create the first project\n",
    "\n",
    "```bash\n",
    "$ pip install flask\n",
    "```\n",
    "\n",
    "## 2.2 Creating our first Flask project"
   ]
  },
  {
   "cell_type": "code",
   "execution_count": 1,
   "metadata": {},
   "outputs": [
    {
     "name": "stderr",
     "output_type": "stream",
     "text": [
      " * Running on http://127.0.0.1:5000/ (Press CTRL+C to quit)\n",
      "127.0.0.1 - - [23/Feb/2018 12:14:23] \"GET /index HTTP/1.1\" 200 -\n",
      "127.0.0.1 - - [23/Feb/2018 12:15:30] \"GET / HTTP/1.1\" 404 -\n"
     ]
    }
   ],
   "source": [
    "# SAVE AS helloworld.py\n",
    "\n",
    "from flask import Flask\n",
    "\n",
    "# Get the flask application object\n",
    "app = Flask(__name__)\n",
    "\n",
    "# A view function\n",
    "@app.route('/index')\n",
    "def index():\n",
    "    return 'Hello World!'\n",
    "\n",
    "if __name__ == '__main__':\n",
    "    app.run()"
   ]
  },
  {
   "cell_type": "markdown",
   "metadata": {},
   "source": [
    "## 2.3 Flask routing\n",
    "\n",
    "### 2.3.1 Routing path\n",
    "\n",
    "http://localhost:5000/index ==> Flask ==> `@app.route('/index')` ==> `def index()`\n",
    "\n",
    "### 2.3.2 Check the mapping rule\n",
    "\n",
    "Besides our rule of mapping \"index\", there is always a static rule."
   ]
  },
  {
   "cell_type": "code",
   "execution_count": 2,
   "metadata": {},
   "outputs": [
    {
     "data": {
      "text/plain": [
       "Map([<Rule '/index' (OPTIONS, HEAD, GET) -> index>,\n",
       " <Rule '/static/<filename>' (OPTIONS, HEAD, GET) -> static>])"
      ]
     },
     "execution_count": 2,
     "metadata": {},
     "output_type": "execute_result"
    }
   ],
   "source": [
    "from helloworld import app\n",
    "app.url_map"
   ]
  },
  {
   "cell_type": "markdown",
   "metadata": {},
   "source": [
    "## 2.4 Model, template, view\n",
    "\n",
    "### 2.4.1 Model\n",
    "\n",
    "* Holds data\n",
    "* Usually represents rows in a database table\n",
    "* Flask leaves it to you\n",
    "* sqlite3, SQLAlchemy\n",
    "\n",
    "### 2.4.2 Template (called \"View\" in MVC)\n",
    "\n",
    "* Used to generate HTML\n",
    "* Flask includes Jinja2\n",
    "\n",
    "### 2.4.3 View (called \"Controller\" in MVC)\n",
    "\n",
    "* A function that generates a HTTP response for a HTTP request\n",
    "* Mapped to one or more URLs\n",
    "\n",
    "### 2.4.4 Flask request handling\n",
    "\n",
    "request ==> http://localhost:5000/index ==> Flask ==> @app.route('/index') ==> \"View\": def index() ==> \"Model\": data from database; and \"Template\": html ==> response"
   ]
  }
 ],
 "metadata": {
  "kernelspec": {
   "display_name": "Python [conda env:web]",
   "language": "python",
   "name": "conda-env-web-py"
  },
  "language_info": {
   "codemirror_mode": {
    "name": "ipython",
    "version": 3
   },
   "file_extension": ".py",
   "mimetype": "text/x-python",
   "name": "python",
   "nbconvert_exporter": "python",
   "pygments_lexer": "ipython3",
   "version": "3.6.4"
  }
 },
 "nbformat": 4,
 "nbformat_minor": 2
}
