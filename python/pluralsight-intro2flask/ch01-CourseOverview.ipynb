{
 "cells": [
  {
   "cell_type": "markdown",
   "metadata": {},
   "source": [
    "# Chapter 1. Course Overview\n",
    "\n",
    "## 1. Flask -- microframework for web development\n",
    "\n",
    "(1) Micro: small, clean, and simple\n",
    "\n",
    "(2) Minimum amount of features\n",
    "\n",
    "(3) Minimum amount of code: about 12000 lines of code (excluding the unit test)\n",
    "\n",
    "(4) Very flexible\n",
    "\n",
    "## 2. Flask features\n",
    "\n",
    "(1) Templates: Jinja 2\n",
    "\n",
    "(2) HTTP and routing: Werkzeug\n",
    "\n",
    "(3) Model, View, Controller\n",
    "\n",
    "(4) Blueprints\n",
    "\n",
    "(5) Development server + debugger\n",
    "\n",
    "(6) Unit testing support\n",
    "\n",
    "## 3. What you should already know\n",
    "\n",
    "(1) Basics of Python\n",
    "\n",
    "(2) Basics of web development\n",
    "\n",
    "HTML, CSS, Javascript, HTTP\n",
    "\n",
    "(3) Basics of databases\n",
    "\n",
    "## 4. Course overview\n",
    "\n",
    "Develop a social bookmark site."
   ]
  }
 ],
 "metadata": {
  "kernelspec": {
   "display_name": "Python [conda env:web]",
   "language": "python",
   "name": "conda-env-web-py"
  },
  "language_info": {
   "codemirror_mode": {
    "name": "ipython",
    "version": 3
   },
   "file_extension": ".py",
   "mimetype": "text/x-python",
   "name": "python",
   "nbconvert_exporter": "python",
   "pygments_lexer": "ipython3",
   "version": "3.6.4"
  }
 },
 "nbformat": 4,
 "nbformat_minor": 2
}
