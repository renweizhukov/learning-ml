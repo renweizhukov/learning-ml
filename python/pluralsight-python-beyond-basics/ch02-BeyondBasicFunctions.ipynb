{
 "cells": [
  {
   "cell_type": "markdown",
   "metadata": {},
   "source": [
    "# Chapter 2. Beyond Basic Functions\n",
    "\n",
    "## 2.1 Function review\n",
    "\n",
    "(1) Function vs. method (`self`)\n",
    "\n",
    "(2) Positional argument vs. keyword argument: determined at the call site, not at the definition.\n",
    "\n",
    "(3) Objects that can be passed around.\n",
    "\n",
    "## 2.2 Callable instances\n",
    "\n",
    "Callable instances and the `__call__()` special method"
   ]
  },
  {
   "cell_type": "code",
   "execution_count": 15,
   "metadata": {},
   "outputs": [],
   "source": [
    "import socket\n",
    "\n",
    "class Resolver:\n",
    "    def __init__(self):\n",
    "        self._cache = {}\n",
    "        \n",
    "    def __call__(self, host):\n",
    "        if host not in self._cache:\n",
    "            self._cache[host] = socket.gethostbyname(host)\n",
    "        return self._cache[host]\n",
    "    \n",
    "    def clear(self):\n",
    "        self._cache.clear()\n",
    "        \n",
    "    def has_host(self, host):\n",
    "        return host in self._cache"
   ]
  },
  {
   "cell_type": "code",
   "execution_count": 16,
   "metadata": {},
   "outputs": [
    {
     "data": {
      "text/plain": [
       "'93.93.131.30'"
      ]
     },
     "execution_count": 16,
     "metadata": {},
     "output_type": "execute_result"
    }
   ],
   "source": [
    "res = Resolver()\n",
    "res('sixty-north.com')"
   ]
  },
  {
   "cell_type": "code",
   "execution_count": 3,
   "metadata": {},
   "outputs": [
    {
     "data": {
      "text/plain": [
       "'93.93.131.30'"
      ]
     },
     "execution_count": 3,
     "metadata": {},
     "output_type": "execute_result"
    }
   ],
   "source": [
    "res.__call__('sixty-north.com')"
   ]
  },
  {
   "cell_type": "code",
   "execution_count": 4,
   "metadata": {},
   "outputs": [
    {
     "data": {
      "text/plain": [
       "{'sixty-north.com': '93.93.131.30'}"
      ]
     },
     "execution_count": 4,
     "metadata": {},
     "output_type": "execute_result"
    }
   ],
   "source": [
    "res._cache"
   ]
  },
  {
   "cell_type": "code",
   "execution_count": 5,
   "metadata": {},
   "outputs": [
    {
     "data": {
      "text/plain": [
       "'54.200.215.79'"
      ]
     },
     "execution_count": 5,
     "metadata": {},
     "output_type": "execute_result"
    }
   ],
   "source": [
    "res('pluralsight.com')"
   ]
  },
  {
   "cell_type": "code",
   "execution_count": 6,
   "metadata": {},
   "outputs": [
    {
     "data": {
      "text/plain": [
       "{'pluralsight.com': '54.200.215.79', 'sixty-north.com': '93.93.131.30'}"
      ]
     },
     "execution_count": 6,
     "metadata": {},
     "output_type": "execute_result"
    }
   ],
   "source": [
    "res._cache"
   ]
  },
  {
   "cell_type": "code",
   "execution_count": 12,
   "metadata": {},
   "outputs": [
    {
     "data": {
      "text/plain": [
       "0.02330242400057614"
      ]
     },
     "execution_count": 12,
     "metadata": {},
     "output_type": "execute_result"
    }
   ],
   "source": [
    "from timeit import timeit\n",
    "timeit(setup=\"from __main__ import res\", stmt=\"res('python.org')\",number=1)"
   ]
  },
  {
   "cell_type": "code",
   "execution_count": 13,
   "metadata": {},
   "outputs": [
    {
     "data": {
      "text/plain": [
       "3.837994881905615e-06"
      ]
     },
     "execution_count": 13,
     "metadata": {},
     "output_type": "execute_result"
    }
   ],
   "source": [
    "timeit(setup=\"from __main__ import res\", stmt=\"res('python.org')\",number=1)"
   ]
  },
  {
   "cell_type": "code",
   "execution_count": 14,
   "metadata": {},
   "outputs": [
    {
     "name": "stdout",
     "output_type": "stream",
     "text": [
      "0.000004\n"
     ]
    }
   ],
   "source": [
    "print('{:f}'.format(_))"
   ]
  },
  {
   "cell_type": "code",
   "execution_count": 17,
   "metadata": {},
   "outputs": [
    {
     "data": {
      "text/plain": [
       "False"
      ]
     },
     "execution_count": 17,
     "metadata": {},
     "output_type": "execute_result"
    }
   ],
   "source": [
    "res.has_host('pluralsight.com')"
   ]
  },
  {
   "cell_type": "code",
   "execution_count": 18,
   "metadata": {},
   "outputs": [
    {
     "data": {
      "text/plain": [
       "'52.88.184.11'"
      ]
     },
     "execution_count": 18,
     "metadata": {},
     "output_type": "execute_result"
    }
   ],
   "source": [
    "res('pluralsight.com')"
   ]
  },
  {
   "cell_type": "code",
   "execution_count": 19,
   "metadata": {},
   "outputs": [
    {
     "data": {
      "text/plain": [
       "True"
      ]
     },
     "execution_count": 19,
     "metadata": {},
     "output_type": "execute_result"
    }
   ],
   "source": [
    "res.has_host('pluralsight.com')"
   ]
  },
  {
   "cell_type": "code",
   "execution_count": 20,
   "metadata": {},
   "outputs": [],
   "source": [
    "res.clear()"
   ]
  },
  {
   "cell_type": "code",
   "execution_count": 21,
   "metadata": {},
   "outputs": [
    {
     "data": {
      "text/plain": [
       "False"
      ]
     },
     "execution_count": 21,
     "metadata": {},
     "output_type": "execute_result"
    }
   ],
   "source": [
    "res.has_host('pluralsight.com')"
   ]
  },
  {
   "cell_type": "markdown",
   "metadata": {},
   "source": [
    "## 2.3 Classes are callable\n",
    "\n",
    "Calling a class invokes the constructor"
   ]
  },
  {
   "cell_type": "code",
   "execution_count": 22,
   "metadata": {},
   "outputs": [
    {
     "data": {
      "text/plain": [
       "__main__.Resolver"
      ]
     },
     "execution_count": 22,
     "metadata": {},
     "output_type": "execute_result"
    }
   ],
   "source": [
    "Resolver"
   ]
  },
  {
   "cell_type": "code",
   "execution_count": 23,
   "metadata": {},
   "outputs": [
    {
     "data": {
      "text/plain": [
       "type"
      ]
     },
     "execution_count": 23,
     "metadata": {},
     "output_type": "execute_result"
    }
   ],
   "source": [
    "type(Resolver)"
   ]
  },
  {
   "cell_type": "code",
   "execution_count": 24,
   "metadata": {},
   "outputs": [],
   "source": [
    "def sequence_class(immutable):\n",
    "    if immutable:\n",
    "        cls = tuple\n",
    "    else:\n",
    "        cls = list\n",
    "    return cls"
   ]
  },
  {
   "cell_type": "code",
   "execution_count": 25,
   "metadata": {},
   "outputs": [],
   "source": [
    "seq = sequence_class(immutable=True)"
   ]
  },
  {
   "cell_type": "code",
   "execution_count": 27,
   "metadata": {},
   "outputs": [
    {
     "data": {
      "text/plain": [
       "('T', 'i', 'm', 'b', 'u', 'k', 't', 'u')"
      ]
     },
     "execution_count": 27,
     "metadata": {},
     "output_type": "execute_result"
    }
   ],
   "source": [
    "t = seq('Timbuktu')\n",
    "t"
   ]
  },
  {
   "cell_type": "code",
   "execution_count": 28,
   "metadata": {},
   "outputs": [
    {
     "data": {
      "text/plain": [
       "tuple"
      ]
     },
     "execution_count": 28,
     "metadata": {},
     "output_type": "execute_result"
    }
   ],
   "source": [
    "type(t)"
   ]
  },
  {
   "cell_type": "markdown",
   "metadata": {},
   "source": [
    "## 2.4 Conditional expressions\n",
    "\n",
    "(1) Conditional statement\n",
    "\n",
    "```python\n",
    "if condition:\n",
    "    result = true_value\n",
    "else:\n",
    "    result = false_value\n",
    "```\n",
    "\n",
    "(2) Conditional expression\n",
    "\n",
    "```python\n",
    "result = true_value if condition else false_value\n",
    "```"
   ]
  },
  {
   "cell_type": "code",
   "execution_count": 29,
   "metadata": {},
   "outputs": [],
   "source": [
    "def sequence_class(immutable):\n",
    "    return tuple if immutable else list"
   ]
  },
  {
   "cell_type": "code",
   "execution_count": 30,
   "metadata": {},
   "outputs": [],
   "source": [
    "seq = sequence_class(immutable=False)"
   ]
  },
  {
   "cell_type": "code",
   "execution_count": 31,
   "metadata": {},
   "outputs": [
    {
     "data": {
      "text/plain": [
       "['T', 'i', 'm', 'b', 'u', 'k', 't', 'u']"
      ]
     },
     "execution_count": 31,
     "metadata": {},
     "output_type": "execute_result"
    }
   ],
   "source": [
    "t = seq('Timbuktu')\n",
    "t"
   ]
  },
  {
   "cell_type": "code",
   "execution_count": 32,
   "metadata": {},
   "outputs": [
    {
     "data": {
      "text/plain": [
       "list"
      ]
     },
     "execution_count": 32,
     "metadata": {},
     "output_type": "execute_result"
    }
   ],
   "source": [
    "type(t)"
   ]
  },
  {
   "cell_type": "markdown",
   "metadata": {},
   "source": [
    "## 2.5 Lambdas\n",
    "\n",
    "(1) An anonymous function object"
   ]
  },
  {
   "cell_type": "code",
   "execution_count": 33,
   "metadata": {},
   "outputs": [
    {
     "name": "stdout",
     "output_type": "stream",
     "text": [
      "Help on built-in function sorted in module builtins:\n",
      "\n",
      "sorted(iterable, /, *, key=None, reverse=False)\n",
      "    Return a new list containing all items from the iterable in ascending order.\n",
      "    \n",
      "    A custom key function can be supplied to customize the sort order, and the\n",
      "    reverse flag can be set to request the result in descending order.\n",
      "\n"
     ]
    }
   ],
   "source": [
    "help(sorted)"
   ]
  },
  {
   "cell_type": "code",
   "execution_count": 35,
   "metadata": {},
   "outputs": [
    {
     "data": {
      "text/plain": [
       "['Niels Bohr',\n",
       " 'Marie Curie',\n",
       " 'Charles Darwin',\n",
       " 'Albert Einstein',\n",
       " 'Antoine Lavoisier',\n",
       " 'Carl Linnaeus',\n",
       " 'Dmitri Mendeleev',\n",
       " 'Isaac Newton',\n",
       " 'Alfred Wegener']"
      ]
     },
     "execution_count": 35,
     "metadata": {},
     "output_type": "execute_result"
    }
   ],
   "source": [
    "scientists = ['Marie Curie', 'Albert Einstein', 'Niels Bohr', 'Isaac Newton', 'Dmitri Mendeleev', 'Antoine Lavoisier',\n",
    "              'Carl Linnaeus', 'Alfred Wegener', 'Charles Darwin']\n",
    "\n",
    "sorted(scientists, key=lambda name: name.split()[-1])"
   ]
  },
  {
   "cell_type": "code",
   "execution_count": 36,
   "metadata": {},
   "outputs": [],
   "source": [
    "last_name = lambda name: name.split()[-1]"
   ]
  },
  {
   "cell_type": "code",
   "execution_count": 37,
   "metadata": {},
   "outputs": [
    {
     "data": {
      "text/plain": [
       "'Tesla'"
      ]
     },
     "execution_count": 37,
     "metadata": {},
     "output_type": "execute_result"
    }
   ],
   "source": [
    "last_name('Nikola Tesla')"
   ]
  },
  {
   "cell_type": "code",
   "execution_count": 38,
   "metadata": {},
   "outputs": [],
   "source": [
    "def first_name(name):\n",
    "    return name.split()[0]"
   ]
  },
  {
   "cell_type": "markdown",
   "metadata": {},
   "source": [
    "(2) Regular functions/methods vs. lambdas\n",
    "\n",
    "| Regular functions/methods | lambdas   |\n",
    "|------|------|\n",
    "| statement which defines a function and binds it to a name | expression which evaluates to a function |\n",
    "| Must have a name | Anonymous |\n",
    "| Arguments delimited by parentheses, separated by commas | Argument list terminated by colon, separated by commas |\n",
    "| Zero or more arguments supported - zero arguments ==> empty parentheses | Zero or more arguments supported - zero arguments ==> `lambda:` |\n",
    "| Body is an indented block of statements | Body is a single expression |\n",
    "| A `return` statement is required to return anything other than `None` | The return value is given by the body expression. No `return` statement is permitted |\n",
    "| Regular functions can have docstrings | Lambdas cannot have docstrings |\n",
    "| Easy to access for testing | Awkward or impossible to test |\n",
    "\n",
    "## 2.6 Detecting callable objects\n",
    "\n",
    "The built-in `callable()` function"
   ]
  },
  {
   "cell_type": "code",
   "execution_count": 39,
   "metadata": {},
   "outputs": [
    {
     "data": {
      "text/plain": [
       "True"
      ]
     },
     "execution_count": 39,
     "metadata": {},
     "output_type": "execute_result"
    }
   ],
   "source": [
    "def is_even(x):\n",
    "    return x % 2 == 0\n",
    "\n",
    "callable(is_even)"
   ]
  },
  {
   "cell_type": "code",
   "execution_count": 40,
   "metadata": {},
   "outputs": [
    {
     "data": {
      "text/plain": [
       "True"
      ]
     },
     "execution_count": 40,
     "metadata": {},
     "output_type": "execute_result"
    }
   ],
   "source": [
    "is_odd = lambda x: x % 2 == 1\n",
    "callable(is_odd)"
   ]
  },
  {
   "cell_type": "code",
   "execution_count": 41,
   "metadata": {},
   "outputs": [
    {
     "data": {
      "text/plain": [
       "True"
      ]
     },
     "execution_count": 41,
     "metadata": {},
     "output_type": "execute_result"
    }
   ],
   "source": [
    "callable(list)"
   ]
  },
  {
   "cell_type": "code",
   "execution_count": 42,
   "metadata": {},
   "outputs": [
    {
     "data": {
      "text/plain": [
       "True"
      ]
     },
     "execution_count": 42,
     "metadata": {},
     "output_type": "execute_result"
    }
   ],
   "source": [
    "callable(list.append)"
   ]
  },
  {
   "cell_type": "code",
   "execution_count": 43,
   "metadata": {},
   "outputs": [
    {
     "data": {
      "text/plain": [
       "True"
      ]
     },
     "execution_count": 43,
     "metadata": {},
     "output_type": "execute_result"
    }
   ],
   "source": [
    "class CallMe:\n",
    "    def __call__(self):\n",
    "        print('Called!')\n",
    "        \n",
    "call_me = CallMe()\n",
    "callable(call_me)"
   ]
  },
  {
   "cell_type": "code",
   "execution_count": 44,
   "metadata": {},
   "outputs": [
    {
     "data": {
      "text/plain": [
       "False"
      ]
     },
     "execution_count": 44,
     "metadata": {},
     "output_type": "execute_result"
    }
   ],
   "source": [
    "callable('This is not callable')"
   ]
  },
  {
   "cell_type": "markdown",
   "metadata": {},
   "source": [
    "## 2.7 Extended formal argument syntax\n",
    "\n",
    "`def extended(*args, **kwargs)`\n",
    "\n",
    "(1) Arbitrary positional arguments `*args`: \n",
    "\n",
    "* must be after regular positional arguments.\n",
    "\n",
    "* any keyword after `*args` must be parsed as mandatory keyword arguments."
   ]
  },
  {
   "cell_type": "code",
   "execution_count": 45,
   "metadata": {},
   "outputs": [],
   "source": [
    "def hypervolume(*args):\n",
    "    print(args)\n",
    "    print(type(args))"
   ]
  },
  {
   "cell_type": "code",
   "execution_count": 46,
   "metadata": {},
   "outputs": [
    {
     "name": "stdout",
     "output_type": "stream",
     "text": [
      "(3, 4)\n",
      "<class 'tuple'>\n"
     ]
    }
   ],
   "source": [
    "hypervolume(3, 4)"
   ]
  },
  {
   "cell_type": "code",
   "execution_count": 47,
   "metadata": {},
   "outputs": [
    {
     "name": "stdout",
     "output_type": "stream",
     "text": [
      "(3, 4, 5)\n",
      "<class 'tuple'>\n"
     ]
    }
   ],
   "source": [
    "hypervolume(3, 4, 5)"
   ]
  },
  {
   "cell_type": "code",
   "execution_count": 48,
   "metadata": {},
   "outputs": [],
   "source": [
    "def hypervolume(*lengths):\n",
    "    i = iter(lengths)\n",
    "    v = next(i)\n",
    "    for length in i:\n",
    "        v *= length\n",
    "    return v"
   ]
  },
  {
   "cell_type": "code",
   "execution_count": 49,
   "metadata": {},
   "outputs": [
    {
     "data": {
      "text/plain": [
       "8"
      ]
     },
     "execution_count": 49,
     "metadata": {},
     "output_type": "execute_result"
    }
   ],
   "source": [
    "hypervolume(2, 4)"
   ]
  },
  {
   "cell_type": "code",
   "execution_count": 50,
   "metadata": {},
   "outputs": [
    {
     "data": {
      "text/plain": [
       "48"
      ]
     },
     "execution_count": 50,
     "metadata": {},
     "output_type": "execute_result"
    }
   ],
   "source": [
    "hypervolume(2, 4, 6)"
   ]
  },
  {
   "cell_type": "code",
   "execution_count": 51,
   "metadata": {},
   "outputs": [
    {
     "data": {
      "text/plain": [
       "384"
      ]
     },
     "execution_count": 51,
     "metadata": {},
     "output_type": "execute_result"
    }
   ],
   "source": [
    "hypervolume(2, 4, 6, 8)"
   ]
  },
  {
   "cell_type": "code",
   "execution_count": 52,
   "metadata": {},
   "outputs": [
    {
     "data": {
      "text/plain": [
       "1"
      ]
     },
     "execution_count": 52,
     "metadata": {},
     "output_type": "execute_result"
    }
   ],
   "source": [
    "hypervolume(1)"
   ]
  },
  {
   "cell_type": "code",
   "execution_count": 53,
   "metadata": {},
   "outputs": [
    {
     "ename": "StopIteration",
     "evalue": "",
     "output_type": "error",
     "traceback": [
      "\u001b[0;31m---------------------------------------------------------------------------\u001b[0m",
      "\u001b[0;31mStopIteration\u001b[0m                             Traceback (most recent call last)",
      "\u001b[0;32m<ipython-input-53-e35e3ca2182b>\u001b[0m in \u001b[0;36m<module>\u001b[0;34m()\u001b[0m\n\u001b[0;32m----> 1\u001b[0;31m \u001b[0mhypervolume\u001b[0m\u001b[0;34m(\u001b[0m\u001b[0;34m)\u001b[0m\u001b[0;34m\u001b[0m\u001b[0m\n\u001b[0m",
      "\u001b[0;32m<ipython-input-48-59cbeeb33214>\u001b[0m in \u001b[0;36mhypervolume\u001b[0;34m(*lengths)\u001b[0m\n\u001b[1;32m      1\u001b[0m \u001b[0;32mdef\u001b[0m \u001b[0mhypervolume\u001b[0m\u001b[0;34m(\u001b[0m\u001b[0;34m*\u001b[0m\u001b[0mlengths\u001b[0m\u001b[0;34m)\u001b[0m\u001b[0;34m:\u001b[0m\u001b[0;34m\u001b[0m\u001b[0m\n\u001b[1;32m      2\u001b[0m     \u001b[0mi\u001b[0m \u001b[0;34m=\u001b[0m \u001b[0miter\u001b[0m\u001b[0;34m(\u001b[0m\u001b[0mlengths\u001b[0m\u001b[0;34m)\u001b[0m\u001b[0;34m\u001b[0m\u001b[0m\n\u001b[0;32m----> 3\u001b[0;31m     \u001b[0mv\u001b[0m \u001b[0;34m=\u001b[0m \u001b[0mnext\u001b[0m\u001b[0;34m(\u001b[0m\u001b[0mi\u001b[0m\u001b[0;34m)\u001b[0m\u001b[0;34m\u001b[0m\u001b[0m\n\u001b[0m\u001b[1;32m      4\u001b[0m     \u001b[0;32mfor\u001b[0m \u001b[0mlength\u001b[0m \u001b[0;32min\u001b[0m \u001b[0mi\u001b[0m\u001b[0;34m:\u001b[0m\u001b[0;34m\u001b[0m\u001b[0m\n\u001b[1;32m      5\u001b[0m         \u001b[0mv\u001b[0m \u001b[0;34m*=\u001b[0m \u001b[0mlength\u001b[0m\u001b[0;34m\u001b[0m\u001b[0m\n",
      "\u001b[0;31mStopIteration\u001b[0m: "
     ]
    }
   ],
   "source": [
    "hypervolume()"
   ]
  },
  {
   "cell_type": "code",
   "execution_count": 54,
   "metadata": {},
   "outputs": [],
   "source": [
    "def hypervolume(length, *lengths):\n",
    "    v = length\n",
    "    for item in lengths:\n",
    "        v *= item  \n",
    "    return v"
   ]
  },
  {
   "cell_type": "code",
   "execution_count": 55,
   "metadata": {},
   "outputs": [
    {
     "data": {
      "text/plain": [
       "945"
      ]
     },
     "execution_count": 55,
     "metadata": {},
     "output_type": "execute_result"
    }
   ],
   "source": [
    "hypervolume(3, 5, 7, 9)"
   ]
  },
  {
   "cell_type": "code",
   "execution_count": 56,
   "metadata": {},
   "outputs": [
    {
     "data": {
      "text/plain": [
       "105"
      ]
     },
     "execution_count": 56,
     "metadata": {},
     "output_type": "execute_result"
    }
   ],
   "source": [
    "hypervolume(3, 5, 7)"
   ]
  },
  {
   "cell_type": "code",
   "execution_count": 57,
   "metadata": {},
   "outputs": [
    {
     "data": {
      "text/plain": [
       "15"
      ]
     },
     "execution_count": 57,
     "metadata": {},
     "output_type": "execute_result"
    }
   ],
   "source": [
    "hypervolume(3, 5)"
   ]
  },
  {
   "cell_type": "code",
   "execution_count": 58,
   "metadata": {},
   "outputs": [
    {
     "data": {
      "text/plain": [
       "3"
      ]
     },
     "execution_count": 58,
     "metadata": {},
     "output_type": "execute_result"
    }
   ],
   "source": [
    "hypervolume(3)"
   ]
  },
  {
   "cell_type": "code",
   "execution_count": 59,
   "metadata": {},
   "outputs": [
    {
     "ename": "TypeError",
     "evalue": "hypervolume() missing 1 required positional argument: 'length'",
     "output_type": "error",
     "traceback": [
      "\u001b[0;31m---------------------------------------------------------------------------\u001b[0m",
      "\u001b[0;31mTypeError\u001b[0m                                 Traceback (most recent call last)",
      "\u001b[0;32m<ipython-input-59-e35e3ca2182b>\u001b[0m in \u001b[0;36m<module>\u001b[0;34m()\u001b[0m\n\u001b[0;32m----> 1\u001b[0;31m \u001b[0mhypervolume\u001b[0m\u001b[0;34m(\u001b[0m\u001b[0;34m)\u001b[0m\u001b[0;34m\u001b[0m\u001b[0m\n\u001b[0m",
      "\u001b[0;31mTypeError\u001b[0m: hypervolume() missing 1 required positional argument: 'length'"
     ]
    }
   ],
   "source": [
    "hypervolume()"
   ]
  },
  {
   "cell_type": "markdown",
   "metadata": {},
   "source": [
    "(2) Arbitrary keyword arguments `**kwargs`: \n",
    "\n",
    "* Must be after `*args`.\n",
    "\n",
    "* Must be last in the argument list if present."
   ]
  },
  {
   "cell_type": "code",
   "execution_count": 60,
   "metadata": {},
   "outputs": [],
   "source": [
    "def tag(name, **kwargs):\n",
    "    print(name)\n",
    "    print(kwargs)\n",
    "    print(type(kwargs))"
   ]
  },
  {
   "cell_type": "code",
   "execution_count": 61,
   "metadata": {},
   "outputs": [
    {
     "name": "stdout",
     "output_type": "stream",
     "text": [
      "img\n",
      "{'src': 'monet.jpg', 'alt': 'Sunrise by Claude Monet', 'border': 1}\n",
      "<class 'dict'>\n"
     ]
    }
   ],
   "source": [
    "tag('img', src='monet.jpg', alt='Sunrise by Claude Monet', border=1)"
   ]
  },
  {
   "cell_type": "code",
   "execution_count": 63,
   "metadata": {},
   "outputs": [],
   "source": [
    "def tag(name, **attributes):\n",
    "    result = '<' + name\n",
    "    for key, value in attributes.items():\n",
    "        result += ' {k}=\"{v}\"'.format(k=key, v=str(value))\n",
    "    result += '>'\n",
    "    return result"
   ]
  },
  {
   "cell_type": "code",
   "execution_count": 64,
   "metadata": {},
   "outputs": [
    {
     "data": {
      "text/plain": [
       "'<img src=\"monet.jpg\" alt=\"Sunrise by Claude Monet\" border=\"1\">'"
      ]
     },
     "execution_count": 64,
     "metadata": {},
     "output_type": "execute_result"
    }
   ],
   "source": [
    "tag('img', src='monet.jpg', alt='Sunrise by Claude Monet', border=1)"
   ]
  },
  {
   "cell_type": "markdown",
   "metadata": {},
   "source": [
    "## 2.8 Extended call syntax\n",
    "\n",
    "`extended(*args, **kwargs)`\n",
    "\n",
    "(1) Use tuple to populate positional arguments.\n",
    "\n",
    "(2) Use dict to populate keyword arguments."
   ]
  },
  {
   "cell_type": "code",
   "execution_count": 1,
   "metadata": {},
   "outputs": [
    {
     "name": "stdout",
     "output_type": "stream",
     "text": [
      "11\n",
      "12\n",
      "(13, 14)\n"
     ]
    }
   ],
   "source": [
    "def print_args(arg1, arg2, *args):\n",
    "    print(arg1)\n",
    "    print(arg2)\n",
    "    print(args)\n",
    "    \n",
    "t = (11, 12, 13, 14)\n",
    "print_args(*t)"
   ]
  },
  {
   "cell_type": "code",
   "execution_count": 3,
   "metadata": {},
   "outputs": [
    {
     "name": "stdout",
     "output_type": "stream",
     "text": [
      "r = 21\n",
      "g = 68\n",
      "b = 120\n",
      "{'alpha': 52}\n"
     ]
    }
   ],
   "source": [
    "def color(red, green, blue, **kwargs):\n",
    "    print('r =', red)\n",
    "    print('g =', green)\n",
    "    print('b =', blue)\n",
    "    print(kwargs)\n",
    "    \n",
    "k = {'red':21, 'green':68, 'blue':120, 'alpha':52}\n",
    "color(**k)"
   ]
  },
  {
   "cell_type": "code",
   "execution_count": 4,
   "metadata": {},
   "outputs": [
    {
     "data": {
      "text/plain": [
       "{'alpha': 52, 'blue': 129, 'green': 68, 'red': 21}"
      ]
     },
     "execution_count": 4,
     "metadata": {},
     "output_type": "execute_result"
    }
   ],
   "source": [
    "k = dict(red=21, green=68, blue=129, alpha=52)\n",
    "k"
   ]
  },
  {
   "cell_type": "markdown",
   "metadata": {},
   "source": [
    "## 2.9 Forwarding arguments"
   ]
  },
  {
   "cell_type": "code",
   "execution_count": 5,
   "metadata": {},
   "outputs": [
    {
     "data": {
      "text/plain": [
       "255"
      ]
     },
     "execution_count": 5,
     "metadata": {},
     "output_type": "execute_result"
    }
   ],
   "source": [
    "def trace(f, *args, **kwargs):\n",
    "    print('args =', args)\n",
    "    print('kwargs =', kwargs)\n",
    "    result = f(*args, **kwargs)\n",
    "    print('result =', result)\n",
    "    return result\n",
    "\n",
    "int('ff', base=16)"
   ]
  },
  {
   "cell_type": "code",
   "execution_count": 6,
   "metadata": {},
   "outputs": [
    {
     "name": "stdout",
     "output_type": "stream",
     "text": [
      "args = ('ff',)\n",
      "kwargs = {'base': 16}\n",
      "result = 255\n"
     ]
    },
    {
     "data": {
      "text/plain": [
       "255"
      ]
     },
     "execution_count": 6,
     "metadata": {},
     "output_type": "execute_result"
    }
   ],
   "source": [
    "trace(int, 'ff', base=16)"
   ]
  },
  {
   "cell_type": "markdown",
   "metadata": {},
   "source": [
    "## 2.10 Duck tail: transposing tables"
   ]
  },
  {
   "cell_type": "code",
   "execution_count": 7,
   "metadata": {},
   "outputs": [
    {
     "name": "stdout",
     "output_type": "stream",
     "text": [
      "(12, 13)\n",
      "(14, 14)\n",
      "(15, 14)\n",
      "(15, 14)\n",
      "(17, 16)\n",
      "(21, 20)\n",
      "(22, 21)\n",
      "(22, 22)\n",
      "(23, 22)\n",
      "(22, 21)\n",
      "(20, 19)\n",
      "(18, 17)\n"
     ]
    }
   ],
   "source": [
    "sunday = [12, 14, 15, 15, 17, 21, 22, 22, 23, 22, 20, 18]\n",
    "monday = [13, 14, 14, 14, 16, 20, 21, 22, 22, 21, 19, 17]\n",
    "\n",
    "for item in zip(sunday, monday):\n",
    "    print(item)"
   ]
  },
  {
   "cell_type": "code",
   "execution_count": 8,
   "metadata": {},
   "outputs": [
    {
     "name": "stdout",
     "output_type": "stream",
     "text": [
      "(12, 13, 2)\n",
      "(14, 14, 2)\n",
      "(15, 14, 3)\n",
      "(15, 14, 7)\n",
      "(17, 16, 9)\n",
      "(21, 20, 10)\n",
      "(22, 21, 11)\n",
      "(22, 22, 12)\n",
      "(23, 22, 10)\n",
      "(22, 21, 9)\n",
      "(20, 19, 8)\n",
      "(18, 17, 8)\n"
     ]
    }
   ],
   "source": [
    "tuesday = [2, 2, 3, 7, 9, 10, 11, 12, 10, 9, 8, 8]\n",
    "for item in zip(sunday, monday, tuesday):\n",
    "    print(item)"
   ]
  },
  {
   "cell_type": "code",
   "execution_count": 9,
   "metadata": {},
   "outputs": [
    {
     "name": "stdout",
     "output_type": "stream",
     "text": [
      "[[12, 14, 15, 15, 17, 21, 22, 22, 23, 22, 20, 18],\n",
      " [13, 14, 14, 14, 16, 20, 21, 22, 22, 21, 19, 17],\n",
      " [2, 2, 3, 7, 9, 10, 11, 12, 10, 9, 8, 8]]\n"
     ]
    }
   ],
   "source": [
    "daily = [sunday, monday, tuesday]\n",
    "from pprint import pprint as pp\n",
    "pp(daily)"
   ]
  },
  {
   "cell_type": "code",
   "execution_count": 10,
   "metadata": {},
   "outputs": [
    {
     "name": "stdout",
     "output_type": "stream",
     "text": [
      "(12, 13, 2)\n",
      "(14, 14, 2)\n",
      "(15, 14, 3)\n",
      "(15, 14, 7)\n",
      "(17, 16, 9)\n",
      "(21, 20, 10)\n",
      "(22, 21, 11)\n",
      "(22, 22, 12)\n",
      "(23, 22, 10)\n",
      "(22, 21, 9)\n",
      "(20, 19, 8)\n",
      "(18, 17, 8)\n"
     ]
    }
   ],
   "source": [
    "for item in zip(daily[0], daily[1], daily[2]):\n",
    "    print(item)"
   ]
  },
  {
   "cell_type": "code",
   "execution_count": 11,
   "metadata": {},
   "outputs": [
    {
     "name": "stdout",
     "output_type": "stream",
     "text": [
      "[[12, 14, 15, 15, 17, 21, 22, 22, 23, 22, 20, 18],\n",
      " [13, 14, 14, 14, 16, 20, 21, 22, 22, 21, 19, 17],\n",
      " [2, 2, 3, 7, 9, 10, 11, 12, 10, 9, 8, 8]]\n"
     ]
    }
   ],
   "source": [
    "pp(daily)"
   ]
  },
  {
   "cell_type": "code",
   "execution_count": 12,
   "metadata": {},
   "outputs": [
    {
     "name": "stdout",
     "output_type": "stream",
     "text": [
      "(12, 13, 2)\n",
      "(14, 14, 2)\n",
      "(15, 14, 3)\n",
      "(15, 14, 7)\n",
      "(17, 16, 9)\n",
      "(21, 20, 10)\n",
      "(22, 21, 11)\n",
      "(22, 22, 12)\n",
      "(23, 22, 10)\n",
      "(22, 21, 9)\n",
      "(20, 19, 8)\n",
      "(18, 17, 8)\n"
     ]
    }
   ],
   "source": [
    "for item in zip(*daily):\n",
    "    print(item)"
   ]
  },
  {
   "cell_type": "code",
   "execution_count": 13,
   "metadata": {},
   "outputs": [
    {
     "name": "stdout",
     "output_type": "stream",
     "text": [
      "[(12, 13, 2),\n",
      " (14, 14, 2),\n",
      " (15, 14, 3),\n",
      " (15, 14, 7),\n",
      " (17, 16, 9),\n",
      " (21, 20, 10),\n",
      " (22, 21, 11),\n",
      " (22, 22, 12),\n",
      " (23, 22, 10),\n",
      " (22, 21, 9),\n",
      " (20, 19, 8),\n",
      " (18, 17, 8)]\n"
     ]
    }
   ],
   "source": [
    "transposed = list(zip(*daily))\n",
    "pp(transposed)"
   ]
  },
  {
   "cell_type": "markdown",
   "metadata": {},
   "source": [
    "## 2.11 Summary"
   ]
  }
 ],
 "metadata": {
  "kernelspec": {
   "display_name": "Python [conda env:ml]",
   "language": "python",
   "name": "conda-env-ml-py"
  },
  "language_info": {
   "codemirror_mode": {
    "name": "ipython",
    "version": 3
   },
   "file_extension": ".py",
   "mimetype": "text/x-python",
   "name": "python",
   "nbconvert_exporter": "python",
   "pygments_lexer": "ipython3",
   "version": "3.6.4"
  },
  "toc": {
   "nav_menu": {},
   "number_sections": false,
   "sideBar": true,
   "skip_h1_title": false,
   "title_cell": "Table of Contents",
   "title_sidebar": "Contents",
   "toc_cell": false,
   "toc_position": {},
   "toc_section_display": true,
   "toc_window_display": true
  }
 },
 "nbformat": 4,
 "nbformat_minor": 2
}
