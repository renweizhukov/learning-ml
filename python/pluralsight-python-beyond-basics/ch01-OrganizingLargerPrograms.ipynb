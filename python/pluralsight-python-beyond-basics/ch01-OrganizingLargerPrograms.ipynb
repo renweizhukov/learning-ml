{
 "cells": [
  {
   "cell_type": "markdown",
   "metadata": {},
   "source": [
    "# Chapter 1. Organizing Larger Programs\n",
    "\n",
    "## 1.1 Packages\n",
    "\n",
    "(1) Module: single source file which can be imported into programs.\n",
    "\n",
    "(2) Package: a module which can contain other modules which are usually directories.\n",
    "\n",
    "(3) Package has a `__path__` member which is a sequence specifying from which the package is loaded."
   ]
  },
  {
   "cell_type": "code",
   "execution_count": 1,
   "metadata": {},
   "outputs": [],
   "source": [
    "import urllib\n",
    "import urllib.request"
   ]
  },
  {
   "cell_type": "code",
   "execution_count": 2,
   "metadata": {},
   "outputs": [
    {
     "data": {
      "text/plain": [
       "module"
      ]
     },
     "execution_count": 2,
     "metadata": {},
     "output_type": "execute_result"
    }
   ],
   "source": [
    "type(urllib)"
   ]
  },
  {
   "cell_type": "code",
   "execution_count": 3,
   "metadata": {},
   "outputs": [
    {
     "data": {
      "text/plain": [
       "module"
      ]
     },
     "execution_count": 3,
     "metadata": {},
     "output_type": "execute_result"
    }
   ],
   "source": [
    "type(urllib.request)"
   ]
  },
  {
   "cell_type": "code",
   "execution_count": 4,
   "metadata": {},
   "outputs": [
    {
     "data": {
      "text/plain": [
       "['/home/renwei/anaconda3/envs/ml/lib/python3.6/urllib']"
      ]
     },
     "execution_count": 4,
     "metadata": {},
     "output_type": "execute_result"
    }
   ],
   "source": [
    "urllib.__path__"
   ]
  },
  {
   "cell_type": "code",
   "execution_count": 5,
   "metadata": {},
   "outputs": [
    {
     "ename": "AttributeError",
     "evalue": "module 'urllib.request' has no attribute '__path__'",
     "output_type": "error",
     "traceback": [
      "\u001b[0;31m---------------------------------------------------------------------------\u001b[0m",
      "\u001b[0;31mAttributeError\u001b[0m                            Traceback (most recent call last)",
      "\u001b[0;32m<ipython-input-5-5f94591ece52>\u001b[0m in \u001b[0;36m<module>\u001b[0;34m()\u001b[0m\n\u001b[0;32m----> 1\u001b[0;31m \u001b[0murllib\u001b[0m\u001b[0;34m.\u001b[0m\u001b[0mrequest\u001b[0m\u001b[0;34m.\u001b[0m\u001b[0m__path__\u001b[0m\u001b[0;34m\u001b[0m\u001b[0m\n\u001b[0m",
      "\u001b[0;31mAttributeError\u001b[0m: module 'urllib.request' has no attribute '__path__'"
     ]
    }
   ],
   "source": [
    "urllib.request.__path__"
   ]
  },
  {
   "cell_type": "markdown",
   "metadata": {},
   "source": [
    "## 1.2 Imports from `sys.path`\n",
    "\n",
    "(1) `sys.path`: list of directories Python searches for modules.\n",
    "\n",
    "The first entry in the list is always '' which means the current directory."
   ]
  },
  {
   "cell_type": "code",
   "execution_count": 2,
   "metadata": {},
   "outputs": [
    {
     "data": {
      "text/plain": [
       "['',\n",
       " '/home/renwei/anaconda3/envs/ml/lib/python36.zip',\n",
       " '/home/renwei/anaconda3/envs/ml/lib/python3.6',\n",
       " '/home/renwei/anaconda3/envs/ml/lib/python3.6/lib-dynload',\n",
       " '/home/renwei/anaconda3/envs/ml/lib/python3.6/site-packages',\n",
       " '/home/renwei/anaconda3/envs/ml/lib/python3.6/site-packages/object_detection-0.1-py3.6.egg',\n",
       " '/home/renwei/anaconda3/envs/ml/lib/python3.6/site-packages/IPython/extensions',\n",
       " '/home/renwei/.ipython']"
      ]
     },
     "execution_count": 2,
     "metadata": {},
     "output_type": "execute_result"
    }
   ],
   "source": [
    "import sys\n",
    "sys.path"
   ]
  },
  {
   "cell_type": "code",
   "execution_count": 3,
   "metadata": {},
   "outputs": [
    {
     "data": {
      "text/plain": [
       "''"
      ]
     },
     "execution_count": 3,
     "metadata": {},
     "output_type": "execute_result"
    }
   ],
   "source": [
    "sys.path[0]"
   ]
  },
  {
   "cell_type": "markdown",
   "metadata": {},
   "source": [
    "(2) `PYTHONPATH`: environment variable listing paths added to `sys.path`.\n",
    "\n",
    "It uses the same format as your system `PATH` variable. To set it, use `set` on Windows or `export` on Mac or Linux.\n",
    "\n",
    "## 1.3 Implementing packages\n",
    "\n",
    "Basic package structure\n",
    "\n",
    "```\n",
    "path_entry/ (must be in sys.path)\n",
    "|\n",
    "|----my_package/ (package root)\n",
    "     |\n",
    "     |----__init__.py (package init file)\n",
    "\n",
    "```\n",
    "\n",
    "## 1.4 Subpackages\n",
    "\n",
    "Create a subpackage within a package.\n",
    "\n",
    "## 1.5 Example: A full program\n",
    "\n",
    "Package review\n",
    "\n",
    "(1) Packages are modules that contain other modules.\n",
    "\n",
    "(2) Packages are generally implemented as directories containing a special `__init__.py` file.\n",
    "\n",
    "(3) The `__init__.py` file is executed when the package is imported.\n",
    "\n",
    "(4) Packages can contain subpackages which themselves are implemented with `__init__.py` files in directories.\n",
    "\n",
    "## 1.6 Relative imports\n",
    "\n",
    "(1) Absolute imports: imports which use a full path to the module.\n",
    "\n",
    "```python\n",
    "from reader.reader import Reader\n",
    "```\n",
    "\n",
    "(2) Relative imports: imports which use a relative path to modules in the same package\n",
    "\n",
    "* one dot = same directory\n",
    "\n",
    "```python\n",
    "from .reader import Reader\n",
    "from . import reader\n",
    "```\n",
    "\n",
    "* two dots = parent directory\n",
    "\n",
    "```python\n",
    "from ..a import A\n",
    "```\n",
    "\n",
    "(3) Advantages of relative imports:\n",
    "\n",
    "* Can reduce typing in deeply nested package structures.\n",
    "\n",
    "* Promote certain forms of modifiability.\n",
    "\n",
    "* Can aid package renaming and refactoring.\n",
    "\n",
    "* General advice is to avoid them in most cases.\n",
    "\n",
    "## 1.7 Controlling imports with `__all__`.\n",
    "\n",
    "List of attribute names imported via `from module import *`.\n",
    "\n",
    "## 1.8 Namespace packages\n",
    "\n",
    "(1) Packages split across several directories.\n",
    "\n",
    "(2) Namespace packages have no `__init__.py`. This avoids complex initialization ordering problems.\n",
    "\n",
    "(3) Importing namespace packages:\n",
    "\n",
    "* Python scans all entries in `sys.path`.\n",
    "\n",
    "* If a matching directory with `__init__.py` is found, a normal package is found.\n",
    "\n",
    "* If `foo.py` is found, then it is loaded.\n",
    "\n",
    "* Otherwise, all matching directories in `sys.path` are considered part of the namespace packages.\n",
    "\n",
    "## 1.9 Executable directories\n",
    "\n",
    "(1) Directories containing an entry point for Python execution.\n",
    "\n",
    "(2) Create `__main__.py` at the top-level directory.\n",
    "\n",
    "(3) Executable zip file.\n",
    "\n",
    "```bash\n",
    "$ zip -r ../reader.zip *\n",
    "# python3 reader.zip test.gz\n",
    "```\n",
    "\n",
    "## 1.10 Recommended project structure\n",
    "\n",
    "```\n",
    "project_name\n",
    "|--- __main__.py\n",
    "|--- project_name\n",
    "|    |--- __init__.py\n",
    "|    |--- more_source.py\n",
    "|    |--- subpackage1\n",
    "|    |    |--- __init__.py\n",
    "|    |--- test\n",
    "|         |--- __init__.py\n",
    "|         |--- test_code.py\n",
    "|--- setup.py\n",
    "```\n",
    "\n",
    "## 1.11 Duck tails: modules are singletons.\n",
    "\n",
    "(1) Modules are only executed once, when first imported.\n",
    "\n",
    "(2) Module initialization order is well defined.\n",
    "\n",
    "## 1.12 Summary"
   ]
  }
 ],
 "metadata": {
  "kernelspec": {
   "display_name": "Python [conda env:ml]",
   "language": "python",
   "name": "conda-env-ml-py"
  },
  "language_info": {
   "codemirror_mode": {
    "name": "ipython",
    "version": 3
   },
   "file_extension": ".py",
   "mimetype": "text/x-python",
   "name": "python",
   "nbconvert_exporter": "python",
   "pygments_lexer": "ipython3",
   "version": "3.6.4"
  },
  "toc": {
   "nav_menu": {},
   "number_sections": false,
   "sideBar": true,
   "skip_h1_title": false,
   "title_cell": "Table of Contents",
   "title_sidebar": "Contents",
   "toc_cell": false,
   "toc_position": {},
   "toc_section_display": true,
   "toc_window_display": true
  }
 },
 "nbformat": 4,
 "nbformat_minor": 2
}
