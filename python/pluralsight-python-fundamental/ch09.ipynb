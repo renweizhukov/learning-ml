{
 "cells": [
  {
   "cell_type": "markdown",
   "metadata": {},
   "source": [
    "# Chapter 9. Classes\n",
    "\n",
    "## 9.1 Introduction\n",
    "\n",
    "(1) Use classes to create custom types."
   ]
  },
  {
   "cell_type": "code",
   "execution_count": 1,
   "metadata": {},
   "outputs": [
    {
     "data": {
      "text/plain": [
       "int"
      ]
     },
     "execution_count": 1,
     "metadata": {},
     "output_type": "execute_result"
    }
   ],
   "source": [
    "type(5)"
   ]
  },
  {
   "cell_type": "code",
   "execution_count": 2,
   "metadata": {},
   "outputs": [
    {
     "data": {
      "text/plain": [
       "str"
      ]
     },
     "execution_count": 2,
     "metadata": {},
     "output_type": "execute_result"
    }
   ],
   "source": [
    "type(\"python\")"
   ]
  },
  {
   "cell_type": "code",
   "execution_count": 3,
   "metadata": {},
   "outputs": [
    {
     "data": {
      "text/plain": [
       "list"
      ]
     },
     "execution_count": 3,
     "metadata": {},
     "output_type": "execute_result"
    }
   ],
   "source": [
    "type([1, 2, 3])"
   ]
  },
  {
   "cell_type": "code",
   "execution_count": 4,
   "metadata": {},
   "outputs": [
    {
     "data": {
      "text/plain": [
       "generator"
      ]
     },
     "execution_count": 4,
     "metadata": {},
     "output_type": "execute_result"
    }
   ],
   "source": [
    "type(x * x for x in [2, 4, 6])"
   ]
  },
  {
   "cell_type": "markdown",
   "metadata": {},
   "source": [
    "(2) Classes define the structure and behavior of objects.\n",
    "\n",
    "(3) An object's class controls its initialization.\n",
    "\n",
    "(4) Classes are intended to make complex problems tractable but can make simple solutions overly complex.\n",
    "\n",
    "## 9.2 Defining classes\n",
    "\n",
    "(1) `class` is used to define new classes.\n",
    "\n",
    "(2) By convention, class names use CamelCase."
   ]
  },
  {
   "cell_type": "code",
   "execution_count": 5,
   "metadata": {},
   "outputs": [],
   "source": [
    "# SAVE AS airtravel.py\n",
    "\n",
    "\"\"\"Model for aircraft flights\"\"\"\n",
    "\n",
    "class Flight:\n",
    "    pass"
   ]
  },
  {
   "cell_type": "code",
   "execution_count": 6,
   "metadata": {},
   "outputs": [
    {
     "data": {
      "text/plain": [
       "airtravel.Flight"
      ]
     },
     "execution_count": 6,
     "metadata": {},
     "output_type": "execute_result"
    }
   ],
   "source": [
    "from airtravel import Flight\n",
    "Flight"
   ]
  },
  {
   "cell_type": "code",
   "execution_count": 7,
   "metadata": {},
   "outputs": [
    {
     "data": {
      "text/plain": [
       "airtravel.Flight"
      ]
     },
     "execution_count": 7,
     "metadata": {},
     "output_type": "execute_result"
    }
   ],
   "source": [
    "f = Flight()\n",
    "type(f)"
   ]
  },
  {
   "cell_type": "markdown",
   "metadata": {},
   "source": [
    "## 9.3 Interface methods\n",
    "\n",
    "(1) Method: a function defined within a class\n",
    "\n",
    "(2) Instance method: functions which can be called on objects\n",
    "\n",
    "(3) `self`: the first argument to all instance methods"
   ]
  },
  {
   "cell_type": "code",
   "execution_count": null,
   "metadata": {},
   "outputs": [],
   "source": [
    "# SAVE AS airtravel.py\n",
    "\n",
    "\"\"\"Model for aircraft flights\"\"\"\n",
    "\n",
    "class Flight:\n",
    "    \n",
    "    def number(self):\n",
    "        return \"SN060\""
   ]
  },
  {
   "cell_type": "code",
   "execution_count": 1,
   "metadata": {},
   "outputs": [
    {
     "data": {
      "text/plain": [
       "'SN060'"
      ]
     },
     "execution_count": 1,
     "metadata": {},
     "output_type": "execute_result"
    }
   ],
   "source": [
    "from airtravel import Flight\n",
    "f = Flight()\n",
    "f.number()"
   ]
  },
  {
   "cell_type": "markdown",
   "metadata": {},
   "source": [
    "## 9.4 Intializers\n",
    "\n",
    "(1) `__init__()`: the instance method for initializing new objects.\n",
    "\n",
    "(2) `__init__()` is an initializer, not a constructor.\n",
    "\n",
    "(3) `self` is similar to `this` in C++ or Java.\n",
    "\n",
    "(4) As we don't need to declare variables until we create them, neither do we need to declare object attributes before we create them.\n",
    "\n",
    "(5) Why `_number`?\n",
    "\n",
    "* Avoid name clash with `number()`.\n",
    "\n",
    "* By convention, implementation details start with underscore '_'."
   ]
  },
  {
   "cell_type": "code",
   "execution_count": null,
   "metadata": {},
   "outputs": [],
   "source": [
    "# SAVE AS airtravel.py\n",
    "\n",
    "\"\"\"Model for aircraft flights\"\"\"\n",
    "\n",
    "class Flight:\n",
    "    \n",
    "    def __init__(self, number):\n",
    "        self._number = number\n",
    "    \n",
    "    def number(self):\n",
    "        return self._number"
   ]
  },
  {
   "cell_type": "code",
   "execution_count": 1,
   "metadata": {},
   "outputs": [
    {
     "data": {
      "text/plain": [
       "'SN061'"
      ]
     },
     "execution_count": 1,
     "metadata": {},
     "output_type": "execute_result"
    }
   ],
   "source": [
    "from airtravel import Flight\n",
    "f = Flight(\"SN061\")\n",
    "f.number()"
   ]
  },
  {
   "cell_type": "code",
   "execution_count": 2,
   "metadata": {},
   "outputs": [
    {
     "data": {
      "text/plain": [
       "'SN061'"
      ]
     },
     "execution_count": 2,
     "metadata": {},
     "output_type": "execute_result"
    }
   ],
   "source": [
    "f._number"
   ]
  },
  {
   "cell_type": "markdown",
   "metadata": {},
   "source": [
    "(6) **Everything of the class is public**.\n",
    "\n",
    "\"We're all consenting adults here.\"\n",
    "\n",
    "(7) Class invariants: truths about an object that endure for its lifetime."
   ]
  },
  {
   "cell_type": "code",
   "execution_count": null,
   "metadata": {},
   "outputs": [],
   "source": [
    "# SAVE AS airtravel.py\n",
    "\n",
    "\"\"\"Model for aircraft flights\"\"\"\n",
    "\n",
    "class Flight:\n",
    "    \n",
    "    def __init__(self, number):\n",
    "        if not number[:2].isalpha():\n",
    "            raise ValueError(\"No airline code in '{}'\".format(number))\n",
    "            \n",
    "        if not number[:2].isupper():\n",
    "            raise ValueError(\"Invalid airline code '{}\".format(number))\n",
    "            \n",
    "        if not (number[2:].isdigit() and int(number[2:]) <= 9999):\n",
    "            raise ValueError(\"Invalid route number '{}\".format(number))\n",
    "        \n",
    "        self._number = number\n",
    "    \n",
    "    def number(self):\n",
    "        return self._number\n",
    "    \n",
    "    def airline(self):\n",
    "        return self._number[:2]"
   ]
  },
  {
   "cell_type": "code",
   "execution_count": 1,
   "metadata": {},
   "outputs": [],
   "source": [
    "from airtravel import Flight\n",
    "f = Flight(\"SN060\")"
   ]
  },
  {
   "cell_type": "code",
   "execution_count": 2,
   "metadata": {},
   "outputs": [
    {
     "ename": "ValueError",
     "evalue": "No airline code in '060'",
     "output_type": "error",
     "traceback": [
      "\u001b[0;31m---------------------------------------------------------------------------\u001b[0m",
      "\u001b[0;31mValueError\u001b[0m                                Traceback (most recent call last)",
      "\u001b[0;32m<ipython-input-2-a2da1a79c493>\u001b[0m in \u001b[0;36m<module>\u001b[0;34m()\u001b[0m\n\u001b[0;32m----> 1\u001b[0;31m \u001b[0mf\u001b[0m \u001b[0;34m=\u001b[0m \u001b[0mFlight\u001b[0m\u001b[0;34m(\u001b[0m\u001b[0;34m\"060\"\u001b[0m\u001b[0;34m)\u001b[0m\u001b[0;34m\u001b[0m\u001b[0m\n\u001b[0m",
      "\u001b[0;32m~/repos/github/learning-ml/python/pluralsight-python-fundamental/airtravel.py\u001b[0m in \u001b[0;36m__init__\u001b[0;34m(self, number)\u001b[0m\n\u001b[1;32m      5\u001b[0m     \u001b[0;32mdef\u001b[0m \u001b[0m__init__\u001b[0m\u001b[0;34m(\u001b[0m\u001b[0mself\u001b[0m\u001b[0;34m,\u001b[0m \u001b[0mnumber\u001b[0m\u001b[0;34m)\u001b[0m\u001b[0;34m:\u001b[0m\u001b[0;34m\u001b[0m\u001b[0m\n\u001b[1;32m      6\u001b[0m         \u001b[0;32mif\u001b[0m \u001b[0;32mnot\u001b[0m \u001b[0mnumber\u001b[0m\u001b[0;34m[\u001b[0m\u001b[0;34m:\u001b[0m\u001b[0;36m2\u001b[0m\u001b[0;34m]\u001b[0m\u001b[0;34m.\u001b[0m\u001b[0misalpha\u001b[0m\u001b[0;34m(\u001b[0m\u001b[0;34m)\u001b[0m\u001b[0;34m:\u001b[0m\u001b[0;34m\u001b[0m\u001b[0m\n\u001b[0;32m----> 7\u001b[0;31m             \u001b[0;32mraise\u001b[0m \u001b[0mValueError\u001b[0m\u001b[0;34m(\u001b[0m\u001b[0;34m\"No airline code in '{}'\"\u001b[0m\u001b[0;34m.\u001b[0m\u001b[0mformat\u001b[0m\u001b[0;34m(\u001b[0m\u001b[0mnumber\u001b[0m\u001b[0;34m)\u001b[0m\u001b[0;34m)\u001b[0m\u001b[0;34m\u001b[0m\u001b[0m\n\u001b[0m\u001b[1;32m      8\u001b[0m \u001b[0;34m\u001b[0m\u001b[0m\n\u001b[1;32m      9\u001b[0m         \u001b[0;32mif\u001b[0m \u001b[0;32mnot\u001b[0m \u001b[0mnumber\u001b[0m\u001b[0;34m[\u001b[0m\u001b[0;34m:\u001b[0m\u001b[0;36m2\u001b[0m\u001b[0;34m]\u001b[0m\u001b[0;34m.\u001b[0m\u001b[0misupper\u001b[0m\u001b[0;34m(\u001b[0m\u001b[0;34m)\u001b[0m\u001b[0;34m:\u001b[0m\u001b[0;34m\u001b[0m\u001b[0m\n",
      "\u001b[0;31mValueError\u001b[0m: No airline code in '060'"
     ]
    }
   ],
   "source": [
    "f = Flight(\"060\")"
   ]
  },
  {
   "cell_type": "code",
   "execution_count": 3,
   "metadata": {},
   "outputs": [
    {
     "ename": "ValueError",
     "evalue": "Invalid airline code 'sn060",
     "output_type": "error",
     "traceback": [
      "\u001b[0;31m---------------------------------------------------------------------------\u001b[0m",
      "\u001b[0;31mValueError\u001b[0m                                Traceback (most recent call last)",
      "\u001b[0;32m<ipython-input-3-244e01cfbe04>\u001b[0m in \u001b[0;36m<module>\u001b[0;34m()\u001b[0m\n\u001b[0;32m----> 1\u001b[0;31m \u001b[0mf\u001b[0m \u001b[0;34m=\u001b[0m \u001b[0mFlight\u001b[0m\u001b[0;34m(\u001b[0m\u001b[0;34m\"sn060\"\u001b[0m\u001b[0;34m)\u001b[0m\u001b[0;34m\u001b[0m\u001b[0m\n\u001b[0m",
      "\u001b[0;32m~/repos/github/learning-ml/python/pluralsight-python-fundamental/airtravel.py\u001b[0m in \u001b[0;36m__init__\u001b[0;34m(self, number)\u001b[0m\n\u001b[1;32m      8\u001b[0m \u001b[0;34m\u001b[0m\u001b[0m\n\u001b[1;32m      9\u001b[0m         \u001b[0;32mif\u001b[0m \u001b[0;32mnot\u001b[0m \u001b[0mnumber\u001b[0m\u001b[0;34m[\u001b[0m\u001b[0;34m:\u001b[0m\u001b[0;36m2\u001b[0m\u001b[0;34m]\u001b[0m\u001b[0;34m.\u001b[0m\u001b[0misupper\u001b[0m\u001b[0;34m(\u001b[0m\u001b[0;34m)\u001b[0m\u001b[0;34m:\u001b[0m\u001b[0;34m\u001b[0m\u001b[0m\n\u001b[0;32m---> 10\u001b[0;31m             \u001b[0;32mraise\u001b[0m \u001b[0mValueError\u001b[0m\u001b[0;34m(\u001b[0m\u001b[0;34m\"Invalid airline code '{}\"\u001b[0m\u001b[0;34m.\u001b[0m\u001b[0mformat\u001b[0m\u001b[0;34m(\u001b[0m\u001b[0mnumber\u001b[0m\u001b[0;34m)\u001b[0m\u001b[0;34m)\u001b[0m\u001b[0;34m\u001b[0m\u001b[0m\n\u001b[0m\u001b[1;32m     11\u001b[0m \u001b[0;34m\u001b[0m\u001b[0m\n\u001b[1;32m     12\u001b[0m         \u001b[0;32mif\u001b[0m \u001b[0;32mnot\u001b[0m \u001b[0;34m(\u001b[0m\u001b[0mnumber\u001b[0m\u001b[0;34m[\u001b[0m\u001b[0;36m2\u001b[0m\u001b[0;34m:\u001b[0m\u001b[0;34m]\u001b[0m\u001b[0;34m.\u001b[0m\u001b[0misdigit\u001b[0m\u001b[0;34m(\u001b[0m\u001b[0;34m)\u001b[0m \u001b[0;32mand\u001b[0m \u001b[0mint\u001b[0m\u001b[0;34m(\u001b[0m\u001b[0mnumber\u001b[0m\u001b[0;34m[\u001b[0m\u001b[0;36m2\u001b[0m\u001b[0;34m:\u001b[0m\u001b[0;34m]\u001b[0m\u001b[0;34m)\u001b[0m \u001b[0;34m<=\u001b[0m \u001b[0;36m9999\u001b[0m\u001b[0;34m)\u001b[0m\u001b[0;34m:\u001b[0m\u001b[0;34m\u001b[0m\u001b[0m\n",
      "\u001b[0;31mValueError\u001b[0m: Invalid airline code 'sn060"
     ]
    }
   ],
   "source": [
    "f = Flight(\"sn060\")"
   ]
  },
  {
   "cell_type": "code",
   "execution_count": 5,
   "metadata": {},
   "outputs": [
    {
     "ename": "ValueError",
     "evalue": "Invalid route number 'SNabcd",
     "output_type": "error",
     "traceback": [
      "\u001b[0;31m---------------------------------------------------------------------------\u001b[0m",
      "\u001b[0;31mValueError\u001b[0m                                Traceback (most recent call last)",
      "\u001b[0;32m<ipython-input-5-480489297276>\u001b[0m in \u001b[0;36m<module>\u001b[0;34m()\u001b[0m\n\u001b[0;32m----> 1\u001b[0;31m \u001b[0mf\u001b[0m \u001b[0;34m=\u001b[0m \u001b[0mFlight\u001b[0m\u001b[0;34m(\u001b[0m\u001b[0;34m\"SNabcd\"\u001b[0m\u001b[0;34m)\u001b[0m\u001b[0;34m\u001b[0m\u001b[0m\n\u001b[0m",
      "\u001b[0;32m~/repos/github/learning-ml/python/pluralsight-python-fundamental/airtravel.py\u001b[0m in \u001b[0;36m__init__\u001b[0;34m(self, number)\u001b[0m\n\u001b[1;32m     11\u001b[0m \u001b[0;34m\u001b[0m\u001b[0m\n\u001b[1;32m     12\u001b[0m         \u001b[0;32mif\u001b[0m \u001b[0;32mnot\u001b[0m \u001b[0;34m(\u001b[0m\u001b[0mnumber\u001b[0m\u001b[0;34m[\u001b[0m\u001b[0;36m2\u001b[0m\u001b[0;34m:\u001b[0m\u001b[0;34m]\u001b[0m\u001b[0;34m.\u001b[0m\u001b[0misdigit\u001b[0m\u001b[0;34m(\u001b[0m\u001b[0;34m)\u001b[0m \u001b[0;32mand\u001b[0m \u001b[0mint\u001b[0m\u001b[0;34m(\u001b[0m\u001b[0mnumber\u001b[0m\u001b[0;34m[\u001b[0m\u001b[0;36m2\u001b[0m\u001b[0;34m:\u001b[0m\u001b[0;34m]\u001b[0m\u001b[0;34m)\u001b[0m \u001b[0;34m<=\u001b[0m \u001b[0;36m9999\u001b[0m\u001b[0;34m)\u001b[0m\u001b[0;34m:\u001b[0m\u001b[0;34m\u001b[0m\u001b[0m\n\u001b[0;32m---> 13\u001b[0;31m             \u001b[0;32mraise\u001b[0m \u001b[0mValueError\u001b[0m\u001b[0;34m(\u001b[0m\u001b[0;34m\"Invalid route number '{}\"\u001b[0m\u001b[0;34m.\u001b[0m\u001b[0mformat\u001b[0m\u001b[0;34m(\u001b[0m\u001b[0mnumber\u001b[0m\u001b[0;34m)\u001b[0m\u001b[0;34m)\u001b[0m\u001b[0;34m\u001b[0m\u001b[0m\n\u001b[0m\u001b[1;32m     14\u001b[0m \u001b[0;34m\u001b[0m\u001b[0m\n\u001b[1;32m     15\u001b[0m         \u001b[0mself\u001b[0m\u001b[0;34m.\u001b[0m\u001b[0m_number\u001b[0m \u001b[0;34m=\u001b[0m \u001b[0mnumber\u001b[0m\u001b[0;34m\u001b[0m\u001b[0m\n",
      "\u001b[0;31mValueError\u001b[0m: Invalid route number 'SNabcd"
     ]
    }
   ],
   "source": [
    "f = Flight(\"SNabcd\")"
   ]
  },
  {
   "cell_type": "code",
   "execution_count": 6,
   "metadata": {},
   "outputs": [
    {
     "ename": "ValueError",
     "evalue": "Invalid route number 'SN12345",
     "output_type": "error",
     "traceback": [
      "\u001b[0;31m---------------------------------------------------------------------------\u001b[0m",
      "\u001b[0;31mValueError\u001b[0m                                Traceback (most recent call last)",
      "\u001b[0;32m<ipython-input-6-9639f647339b>\u001b[0m in \u001b[0;36m<module>\u001b[0;34m()\u001b[0m\n\u001b[0;32m----> 1\u001b[0;31m \u001b[0mf\u001b[0m \u001b[0;34m=\u001b[0m \u001b[0mFlight\u001b[0m\u001b[0;34m(\u001b[0m\u001b[0;34m\"SN12345\"\u001b[0m\u001b[0;34m)\u001b[0m\u001b[0;34m\u001b[0m\u001b[0m\n\u001b[0m",
      "\u001b[0;32m~/repos/github/learning-ml/python/pluralsight-python-fundamental/airtravel.py\u001b[0m in \u001b[0;36m__init__\u001b[0;34m(self, number)\u001b[0m\n\u001b[1;32m     11\u001b[0m \u001b[0;34m\u001b[0m\u001b[0m\n\u001b[1;32m     12\u001b[0m         \u001b[0;32mif\u001b[0m \u001b[0;32mnot\u001b[0m \u001b[0;34m(\u001b[0m\u001b[0mnumber\u001b[0m\u001b[0;34m[\u001b[0m\u001b[0;36m2\u001b[0m\u001b[0;34m:\u001b[0m\u001b[0;34m]\u001b[0m\u001b[0;34m.\u001b[0m\u001b[0misdigit\u001b[0m\u001b[0;34m(\u001b[0m\u001b[0;34m)\u001b[0m \u001b[0;32mand\u001b[0m \u001b[0mint\u001b[0m\u001b[0;34m(\u001b[0m\u001b[0mnumber\u001b[0m\u001b[0;34m[\u001b[0m\u001b[0;36m2\u001b[0m\u001b[0;34m:\u001b[0m\u001b[0;34m]\u001b[0m\u001b[0;34m)\u001b[0m \u001b[0;34m<=\u001b[0m \u001b[0;36m9999\u001b[0m\u001b[0;34m)\u001b[0m\u001b[0;34m:\u001b[0m\u001b[0;34m\u001b[0m\u001b[0m\n\u001b[0;32m---> 13\u001b[0;31m             \u001b[0;32mraise\u001b[0m \u001b[0mValueError\u001b[0m\u001b[0;34m(\u001b[0m\u001b[0;34m\"Invalid route number '{}\"\u001b[0m\u001b[0;34m.\u001b[0m\u001b[0mformat\u001b[0m\u001b[0;34m(\u001b[0m\u001b[0mnumber\u001b[0m\u001b[0;34m)\u001b[0m\u001b[0;34m)\u001b[0m\u001b[0;34m\u001b[0m\u001b[0m\n\u001b[0m\u001b[1;32m     14\u001b[0m \u001b[0;34m\u001b[0m\u001b[0m\n\u001b[1;32m     15\u001b[0m         \u001b[0mself\u001b[0m\u001b[0;34m.\u001b[0m\u001b[0m_number\u001b[0m \u001b[0;34m=\u001b[0m \u001b[0mnumber\u001b[0m\u001b[0;34m\u001b[0m\u001b[0m\n",
      "\u001b[0;31mValueError\u001b[0m: Invalid route number 'SN12345"
     ]
    }
   ],
   "source": [
    "f = Flight(\"SN12345\")"
   ]
  },
  {
   "cell_type": "markdown",
   "metadata": {},
   "source": [
    "## 9.5 A second class"
   ]
  },
  {
   "cell_type": "code",
   "execution_count": null,
   "metadata": {},
   "outputs": [],
   "source": [
    "# APPENDED to airtravel.py\n",
    "\n",
    "class Aircraft:\n",
    "    def __init__(self, registration, model, num_rows, num_seats_per_row):\n",
    "        self._registration = registration\n",
    "        self._model = model\n",
    "        self._num_rows = num_rows\n",
    "        self._num_seats_per_row = num_seats_per_row\n",
    "        \n",
    "    def registration(self):\n",
    "        return self._registration\n",
    "    \n",
    "    def model(self):\n",
    "        return self._model\n",
    "    \n",
    "    def seating_plan(self):\n",
    "        return (range(1, self._num_rows + 1), \n",
    "                # 'I' is omited to avoid confusion with '1'.\n",
    "                \"ABCDEFGHJ\"[:self._num_seats_per_row])"
   ]
  },
  {
   "cell_type": "code",
   "execution_count": 1,
   "metadata": {},
   "outputs": [
    {
     "data": {
      "text/plain": [
       "'G-EUPT'"
      ]
     },
     "execution_count": 1,
     "metadata": {},
     "output_type": "execute_result"
    }
   ],
   "source": [
    "from airtravel import *\n",
    "a = Aircraft('G-EUPT', 'Airbus A319', num_rows=22, num_seats_per_row=6)\n",
    "a.registration()"
   ]
  },
  {
   "cell_type": "code",
   "execution_count": 2,
   "metadata": {},
   "outputs": [
    {
     "data": {
      "text/plain": [
       "'Airbus A319'"
      ]
     },
     "execution_count": 2,
     "metadata": {},
     "output_type": "execute_result"
    }
   ],
   "source": [
    "a.model()"
   ]
  },
  {
   "cell_type": "code",
   "execution_count": 3,
   "metadata": {},
   "outputs": [
    {
     "data": {
      "text/plain": [
       "(range(1, 23), 'ABCDEF')"
      ]
     },
     "execution_count": 3,
     "metadata": {},
     "output_type": "execute_result"
    }
   ],
   "source": [
    "a.seating_plan()"
   ]
  },
  {
   "cell_type": "markdown",
   "metadata": {},
   "source": [
    "## 9.6 Collaborating classes\n",
    "\n",
    "Law of Demeter -- the principle of least knowledge: only talk to your friends.\n",
    "\n",
    "\"Complex is better  \n",
    "than complicated.\"\n",
    "\n",
    "\"Many moving parts  \n",
    "Combined in a clever box  \n",
    "Are now one good tool\""
   ]
  },
  {
   "cell_type": "code",
   "execution_count": null,
   "metadata": {},
   "outputs": [],
   "source": [
    "# SAVE AS airtravel.py\n",
    "\n",
    "\"\"\"Model for aircraft flights\"\"\"\n",
    "\n",
    "class Flight:\n",
    "    \"\"\"A flight with a particular passenger aircraft.\"\"\"\n",
    "    \n",
    "    def __init__(self, number, aircraft):\n",
    "        if not number[:2].isalpha():\n",
    "            raise ValueError(\"No airline code in '{}'\".format(number))\n",
    "            \n",
    "        if not number[:2].isupper():\n",
    "            raise ValueError(\"Invalid airline code '{}\".format(number))\n",
    "            \n",
    "        if not (number[2:].isdigit() and int(number[2:]) <= 9999):\n",
    "            raise ValueError(\"Invalid route number '{}\".format(number))\n",
    "        \n",
    "        self._number = number\n",
    "        self._aircraft = aircraft\n",
    "    \n",
    "    def number(self):\n",
    "        return self._number\n",
    "    \n",
    "    def airline(self):\n",
    "        return self._number[:2]\n",
    "    \n",
    "    def aircraft_model(self):\n",
    "        return self._aircraft.model()\n",
    "    \n",
    "class Aircraft:\n",
    "    def __init__(self, registration, model, num_rows, num_seats_per_row):\n",
    "        self._registration = registration\n",
    "        self._model = model\n",
    "        self._num_rows = num_rows\n",
    "        self._num_seats_per_row = num_seats_per_row\n",
    "        \n",
    "    def registration(self):\n",
    "        return self._registration\n",
    "    \n",
    "    def model(self):\n",
    "        return self._model\n",
    "    \n",
    "    def seating_plan(self):\n",
    "        return (range(1, self._num_rows + 1), \n",
    "                # 'I' is omited to avoid confusion with '1'.\n",
    "                \"ABCDEFGHJ\"[:self._num_seats_per_row])    "
   ]
  },
  {
   "cell_type": "code",
   "execution_count": 1,
   "metadata": {},
   "outputs": [
    {
     "data": {
      "text/plain": [
       "'Airbus A319'"
      ]
     },
     "execution_count": 1,
     "metadata": {},
     "output_type": "execute_result"
    }
   ],
   "source": [
    "from airtravel import *\n",
    "\n",
    "f = Flight(\"BA758\", Aircraft(\"G-EUPT\", \"Airbus A319\", num_rows=22, num_seats_per_row=6))\n",
    "f.aircraft_model()"
   ]
  },
  {
   "cell_type": "markdown",
   "metadata": {},
   "source": [
    "## 9.7 Example: booking seats\n",
    "\n",
    "A list of dictionaries.\n",
    "\n",
    "* One list entry for each row in the aircraft.\n",
    "* One key of the dictionary for each seat of the row.\n",
    "\n",
    "```python\n",
    "rows, seats = self._aircraft.seating_plan()\n",
    "self._seating = [None] + [ {letter: None for letter in seats} for _ in rows]\n",
    "```"
   ]
  },
  {
   "cell_type": "code",
   "execution_count": 6,
   "metadata": {},
   "outputs": [
    {
     "data": {
      "text/plain": [
       "[None,\n",
       " {'A': None, 'B': None, 'C': None, 'D': None, 'E': None, 'F': None},\n",
       " {'A': None, 'B': None, 'C': None, 'D': None, 'E': None, 'F': None},\n",
       " {'A': None, 'B': None, 'C': None, 'D': None, 'E': None, 'F': None},\n",
       " {'A': None, 'B': None, 'C': None, 'D': None, 'E': None, 'F': None},\n",
       " {'A': None, 'B': None, 'C': None, 'D': None, 'E': None, 'F': None},\n",
       " {'A': None, 'B': None, 'C': None, 'D': None, 'E': None, 'F': None},\n",
       " {'A': None, 'B': None, 'C': None, 'D': None, 'E': None, 'F': None},\n",
       " {'A': None, 'B': None, 'C': None, 'D': None, 'E': None, 'F': None},\n",
       " {'A': None, 'B': None, 'C': None, 'D': None, 'E': None, 'F': None},\n",
       " {'A': None, 'B': None, 'C': None, 'D': None, 'E': None, 'F': None},\n",
       " {'A': None, 'B': None, 'C': None, 'D': None, 'E': None, 'F': None},\n",
       " {'A': None, 'B': None, 'C': None, 'D': None, 'E': None, 'F': None},\n",
       " {'A': None, 'B': None, 'C': None, 'D': None, 'E': None, 'F': None},\n",
       " {'A': None, 'B': None, 'C': None, 'D': None, 'E': None, 'F': None},\n",
       " {'A': None, 'B': None, 'C': None, 'D': None, 'E': None, 'F': None},\n",
       " {'A': None, 'B': None, 'C': None, 'D': None, 'E': None, 'F': None},\n",
       " {'A': None, 'B': None, 'C': None, 'D': None, 'E': None, 'F': None},\n",
       " {'A': None, 'B': None, 'C': None, 'D': None, 'E': None, 'F': None},\n",
       " {'A': None, 'B': None, 'C': None, 'D': None, 'E': None, 'F': None},\n",
       " {'A': None, 'B': None, 'C': None, 'D': None, 'E': None, 'F': None},\n",
       " {'A': None, 'B': None, 'C': None, 'D': None, 'E': None, 'F': None},\n",
       " {'A': None, 'B': None, 'C': None, 'D': None, 'E': None, 'F': None}]"
      ]
     },
     "execution_count": 6,
     "metadata": {},
     "output_type": "execute_result"
    }
   ],
   "source": [
    "# Don't use list repetition since it will simply duplicate the same list object.\n",
    "rows, seats = (range(1, 23), 'ABCDEF')\n",
    "seating = [None] + [{letter: None for letter in seats}] * len(rows)\n",
    "seating"
   ]
  },
  {
   "cell_type": "code",
   "execution_count": 7,
   "metadata": {},
   "outputs": [
    {
     "data": {
      "text/plain": [
       "[None,\n",
       " {'A': True, 'B': None, 'C': None, 'D': None, 'E': None, 'F': None},\n",
       " {'A': True, 'B': None, 'C': None, 'D': None, 'E': None, 'F': None},\n",
       " {'A': True, 'B': None, 'C': None, 'D': None, 'E': None, 'F': None},\n",
       " {'A': True, 'B': None, 'C': None, 'D': None, 'E': None, 'F': None},\n",
       " {'A': True, 'B': None, 'C': None, 'D': None, 'E': None, 'F': None},\n",
       " {'A': True, 'B': None, 'C': None, 'D': None, 'E': None, 'F': None},\n",
       " {'A': True, 'B': None, 'C': None, 'D': None, 'E': None, 'F': None},\n",
       " {'A': True, 'B': None, 'C': None, 'D': None, 'E': None, 'F': None},\n",
       " {'A': True, 'B': None, 'C': None, 'D': None, 'E': None, 'F': None},\n",
       " {'A': True, 'B': None, 'C': None, 'D': None, 'E': None, 'F': None},\n",
       " {'A': True, 'B': None, 'C': None, 'D': None, 'E': None, 'F': None},\n",
       " {'A': True, 'B': None, 'C': None, 'D': None, 'E': None, 'F': None},\n",
       " {'A': True, 'B': None, 'C': None, 'D': None, 'E': None, 'F': None},\n",
       " {'A': True, 'B': None, 'C': None, 'D': None, 'E': None, 'F': None},\n",
       " {'A': True, 'B': None, 'C': None, 'D': None, 'E': None, 'F': None},\n",
       " {'A': True, 'B': None, 'C': None, 'D': None, 'E': None, 'F': None},\n",
       " {'A': True, 'B': None, 'C': None, 'D': None, 'E': None, 'F': None},\n",
       " {'A': True, 'B': None, 'C': None, 'D': None, 'E': None, 'F': None},\n",
       " {'A': True, 'B': None, 'C': None, 'D': None, 'E': None, 'F': None},\n",
       " {'A': True, 'B': None, 'C': None, 'D': None, 'E': None, 'F': None},\n",
       " {'A': True, 'B': None, 'C': None, 'D': None, 'E': None, 'F': None},\n",
       " {'A': True, 'B': None, 'C': None, 'D': None, 'E': None, 'F': None}]"
      ]
     },
     "execution_count": 7,
     "metadata": {},
     "output_type": "execute_result"
    }
   ],
   "source": [
    "seating[1]['A'] = True\n",
    "seating"
   ]
  },
  {
   "cell_type": "code",
   "execution_count": 1,
   "metadata": {},
   "outputs": [
    {
     "data": {
      "text/plain": [
       "[None,\n",
       " {'A': None, 'B': None, 'C': None, 'D': None, 'E': None, 'F': None},\n",
       " {'A': None, 'B': None, 'C': None, 'D': None, 'E': None, 'F': None},\n",
       " {'A': None, 'B': None, 'C': None, 'D': None, 'E': None, 'F': None},\n",
       " {'A': None, 'B': None, 'C': None, 'D': None, 'E': None, 'F': None},\n",
       " {'A': None, 'B': None, 'C': None, 'D': None, 'E': None, 'F': None},\n",
       " {'A': None, 'B': None, 'C': None, 'D': None, 'E': None, 'F': None},\n",
       " {'A': None, 'B': None, 'C': None, 'D': None, 'E': None, 'F': None},\n",
       " {'A': None, 'B': None, 'C': None, 'D': None, 'E': None, 'F': None},\n",
       " {'A': None, 'B': None, 'C': None, 'D': None, 'E': None, 'F': None},\n",
       " {'A': None, 'B': None, 'C': None, 'D': None, 'E': None, 'F': None},\n",
       " {'A': None, 'B': None, 'C': None, 'D': None, 'E': None, 'F': None},\n",
       " {'A': None, 'B': None, 'C': None, 'D': None, 'E': None, 'F': None},\n",
       " {'A': None, 'B': None, 'C': None, 'D': None, 'E': None, 'F': None},\n",
       " {'A': None, 'B': None, 'C': None, 'D': None, 'E': None, 'F': None},\n",
       " {'A': None, 'B': None, 'C': None, 'D': None, 'E': None, 'F': None},\n",
       " {'A': None, 'B': None, 'C': None, 'D': None, 'E': None, 'F': None},\n",
       " {'A': None, 'B': None, 'C': None, 'D': None, 'E': None, 'F': None},\n",
       " {'A': None, 'B': None, 'C': None, 'D': None, 'E': None, 'F': None},\n",
       " {'A': None, 'B': None, 'C': None, 'D': None, 'E': None, 'F': None},\n",
       " {'A': None, 'B': None, 'C': None, 'D': None, 'E': None, 'F': None},\n",
       " {'A': None, 'B': None, 'C': None, 'D': None, 'E': None, 'F': None},\n",
       " {'A': None, 'B': None, 'C': None, 'D': None, 'E': None, 'F': None}]"
      ]
     },
     "execution_count": 1,
     "metadata": {},
     "output_type": "execute_result"
    }
   ],
   "source": [
    "from airtravel import *\n",
    "f = Flight(\"BA758\", Aircraft(\"G-EUPT\", \"Airbus A319\", num_rows=22, num_seats_per_row=6))\n",
    "f._seating"
   ]
  },
  {
   "cell_type": "code",
   "execution_count": 2,
   "metadata": {},
   "outputs": [
    {
     "name": "stdout",
     "output_type": "stream",
     "text": [
      "[None,\n",
      " {'A': None, 'B': None, 'C': None, 'D': None, 'E': None, 'F': None},\n",
      " {'A': None, 'B': None, 'C': None, 'D': None, 'E': None, 'F': None},\n",
      " {'A': None, 'B': None, 'C': None, 'D': None, 'E': None, 'F': None},\n",
      " {'A': None, 'B': None, 'C': None, 'D': None, 'E': None, 'F': None},\n",
      " {'A': None, 'B': None, 'C': None, 'D': None, 'E': None, 'F': None},\n",
      " {'A': None, 'B': None, 'C': None, 'D': None, 'E': None, 'F': None},\n",
      " {'A': None, 'B': None, 'C': None, 'D': None, 'E': None, 'F': None},\n",
      " {'A': None, 'B': None, 'C': None, 'D': None, 'E': None, 'F': None},\n",
      " {'A': None, 'B': None, 'C': None, 'D': None, 'E': None, 'F': None},\n",
      " {'A': None, 'B': None, 'C': None, 'D': None, 'E': None, 'F': None},\n",
      " {'A': None, 'B': None, 'C': None, 'D': None, 'E': None, 'F': None},\n",
      " {'A': None, 'B': None, 'C': None, 'D': None, 'E': None, 'F': None},\n",
      " {'A': None, 'B': None, 'C': None, 'D': None, 'E': None, 'F': None},\n",
      " {'A': None, 'B': None, 'C': None, 'D': None, 'E': None, 'F': None},\n",
      " {'A': None, 'B': None, 'C': None, 'D': None, 'E': None, 'F': None},\n",
      " {'A': None, 'B': None, 'C': None, 'D': None, 'E': None, 'F': None},\n",
      " {'A': None, 'B': None, 'C': None, 'D': None, 'E': None, 'F': None},\n",
      " {'A': None, 'B': None, 'C': None, 'D': None, 'E': None, 'F': None},\n",
      " {'A': None, 'B': None, 'C': None, 'D': None, 'E': None, 'F': None},\n",
      " {'A': None, 'B': None, 'C': None, 'D': None, 'E': None, 'F': None},\n",
      " {'A': None, 'B': None, 'C': None, 'D': None, 'E': None, 'F': None},\n",
      " {'A': None, 'B': None, 'C': None, 'D': None, 'E': None, 'F': None}]\n"
     ]
    }
   ],
   "source": [
    "from pprint import pprint as pp\n",
    "pp(f._seating)"
   ]
  },
  {
   "cell_type": "code",
   "execution_count": null,
   "metadata": {},
   "outputs": [],
   "source": [
    "class Flight:\n",
    "    \n",
    "    def allocate_seat(seat, passenger):\n",
    "        \"\"\"Allocate a seat to a passenger.\n",
    "        \n",
    "        Args:\n",
    "            seat: A seat designator such as '12C' or '21F'.\n",
    "            passenger: The passenger name.\n",
    "            \n",
    "        Raises:\n",
    "            ValueError: If the seat is unavailable.\n",
    "        \"\"\"\n",
    "        rows, seat_letters = self._aircraft.seating_plan()\n",
    "        \n",
    "        letter = seat[-1]\n",
    "        if letter not in seat_letters:\n",
    "            raise ValueError(\"Invalid seat letter {}\".format(letter))\n",
    "            \n",
    "        row_text = seat[:-1]\n",
    "        try:\n",
    "            row = int(row_text)\n",
    "        except ValueError:\n",
    "            raise ValueError(\"Invalid seat row {}\".format(row_text))\n",
    "            \n",
    "        if row not in rows:\n",
    "            raise ValueError(\"Invalid row number {}\".format(row))\n",
    "            \n",
    "        if self._seating[row][letter] is not None:\n",
    "            raise ValueError(\"Seat {} already occupied\".format(seat))\n",
    "            \n",
    "        self._seating[row][letter] = passenger"
   ]
  },
  {
   "cell_type": "code",
   "execution_count": 1,
   "metadata": {},
   "outputs": [],
   "source": [
    "from airtravel import *\n",
    "from pprint import pprint as pp\n",
    "\n",
    "f = Flight(\"BA758\", Aircraft(\"G-EUPT\", \"Airbus A319\", num_rows=22, num_seats_per_row=6))\n",
    "f.allocate_seat('12A', 'Guido van Rossum')"
   ]
  },
  {
   "cell_type": "code",
   "execution_count": 2,
   "metadata": {},
   "outputs": [
    {
     "ename": "ValueError",
     "evalue": "Seat 12A already occupied",
     "output_type": "error",
     "traceback": [
      "\u001b[0;31m---------------------------------------------------------------------------\u001b[0m",
      "\u001b[0;31mValueError\u001b[0m                                Traceback (most recent call last)",
      "\u001b[0;32m<ipython-input-2-732d0f005162>\u001b[0m in \u001b[0;36m<module>\u001b[0;34m()\u001b[0m\n\u001b[0;32m----> 1\u001b[0;31m \u001b[0mf\u001b[0m\u001b[0;34m.\u001b[0m\u001b[0mallocate_seat\u001b[0m\u001b[0;34m(\u001b[0m\u001b[0;34m'12A'\u001b[0m\u001b[0;34m,\u001b[0m \u001b[0;34m'Rasmus Lerdorf'\u001b[0m\u001b[0;34m)\u001b[0m\u001b[0;34m\u001b[0m\u001b[0m\n\u001b[0m",
      "\u001b[0;32m~/repos/github/learning-ml/python/pluralsight-python-fundamental/airtravel.py\u001b[0m in \u001b[0;36mallocate_seat\u001b[0;34m(self, seat, passenger)\u001b[0m\n\u001b[1;32m     57\u001b[0m \u001b[0;34m\u001b[0m\u001b[0m\n\u001b[1;32m     58\u001b[0m         \u001b[0;32mif\u001b[0m \u001b[0mself\u001b[0m\u001b[0;34m.\u001b[0m\u001b[0m_seating\u001b[0m\u001b[0;34m[\u001b[0m\u001b[0mrow\u001b[0m\u001b[0;34m]\u001b[0m\u001b[0;34m[\u001b[0m\u001b[0mletter\u001b[0m\u001b[0;34m]\u001b[0m \u001b[0;32mis\u001b[0m \u001b[0;32mnot\u001b[0m \u001b[0;32mNone\u001b[0m\u001b[0;34m:\u001b[0m\u001b[0;34m\u001b[0m\u001b[0m\n\u001b[0;32m---> 59\u001b[0;31m             \u001b[0;32mraise\u001b[0m \u001b[0mValueError\u001b[0m\u001b[0;34m(\u001b[0m\u001b[0;34m\"Seat {} already occupied\"\u001b[0m\u001b[0;34m.\u001b[0m\u001b[0mformat\u001b[0m\u001b[0;34m(\u001b[0m\u001b[0mseat\u001b[0m\u001b[0;34m)\u001b[0m\u001b[0;34m)\u001b[0m\u001b[0;34m\u001b[0m\u001b[0m\n\u001b[0m\u001b[1;32m     60\u001b[0m \u001b[0;34m\u001b[0m\u001b[0m\n\u001b[1;32m     61\u001b[0m         \u001b[0mself\u001b[0m\u001b[0;34m.\u001b[0m\u001b[0m_seating\u001b[0m\u001b[0;34m[\u001b[0m\u001b[0mrow\u001b[0m\u001b[0;34m]\u001b[0m\u001b[0;34m[\u001b[0m\u001b[0mletter\u001b[0m\u001b[0;34m]\u001b[0m \u001b[0;34m=\u001b[0m \u001b[0mpassenger\u001b[0m\u001b[0;34m\u001b[0m\u001b[0m\n",
      "\u001b[0;31mValueError\u001b[0m: Seat 12A already occupied"
     ]
    }
   ],
   "source": [
    "f.allocate_seat('12A', 'Rasmus Lerdorf')"
   ]
  },
  {
   "cell_type": "code",
   "execution_count": 3,
   "metadata": {},
   "outputs": [],
   "source": [
    "f.allocate_seat('15F', 'Bjarne Stroustrup')\n",
    "f.allocate_seat('15E', 'Anders Hejlsberg')"
   ]
  },
  {
   "cell_type": "code",
   "execution_count": 4,
   "metadata": {},
   "outputs": [
    {
     "ename": "ValueError",
     "evalue": "Invalid seat letter 7",
     "output_type": "error",
     "traceback": [
      "\u001b[0;31m---------------------------------------------------------------------------\u001b[0m",
      "\u001b[0;31mValueError\u001b[0m                                Traceback (most recent call last)",
      "\u001b[0;32m<ipython-input-4-2ce845430c53>\u001b[0m in \u001b[0;36m<module>\u001b[0;34m()\u001b[0m\n\u001b[0;32m----> 1\u001b[0;31m \u001b[0mf\u001b[0m\u001b[0;34m.\u001b[0m\u001b[0mallocate_seat\u001b[0m\u001b[0;34m(\u001b[0m\u001b[0;34m'E27'\u001b[0m\u001b[0;34m,\u001b[0m \u001b[0;34m'Yukihiro Matsumoto'\u001b[0m\u001b[0;34m)\u001b[0m\u001b[0;34m\u001b[0m\u001b[0m\n\u001b[0m",
      "\u001b[0;32m~/repos/github/learning-ml/python/pluralsight-python-fundamental/airtravel.py\u001b[0m in \u001b[0;36mallocate_seat\u001b[0;34m(self, seat, passenger)\u001b[0m\n\u001b[1;32m     45\u001b[0m         \u001b[0mletter\u001b[0m \u001b[0;34m=\u001b[0m \u001b[0mseat\u001b[0m\u001b[0;34m[\u001b[0m\u001b[0;34m-\u001b[0m\u001b[0;36m1\u001b[0m\u001b[0;34m]\u001b[0m\u001b[0;34m\u001b[0m\u001b[0m\n\u001b[1;32m     46\u001b[0m         \u001b[0;32mif\u001b[0m \u001b[0mletter\u001b[0m \u001b[0;32mnot\u001b[0m \u001b[0;32min\u001b[0m \u001b[0mseat_letters\u001b[0m\u001b[0;34m:\u001b[0m\u001b[0;34m\u001b[0m\u001b[0m\n\u001b[0;32m---> 47\u001b[0;31m             \u001b[0;32mraise\u001b[0m \u001b[0mValueError\u001b[0m\u001b[0;34m(\u001b[0m\u001b[0;34m\"Invalid seat letter {}\"\u001b[0m\u001b[0;34m.\u001b[0m\u001b[0mformat\u001b[0m\u001b[0;34m(\u001b[0m\u001b[0mletter\u001b[0m\u001b[0;34m)\u001b[0m\u001b[0;34m)\u001b[0m\u001b[0;34m\u001b[0m\u001b[0m\n\u001b[0m\u001b[1;32m     48\u001b[0m \u001b[0;34m\u001b[0m\u001b[0m\n\u001b[1;32m     49\u001b[0m         \u001b[0mrow_text\u001b[0m \u001b[0;34m=\u001b[0m \u001b[0mseat\u001b[0m\u001b[0;34m[\u001b[0m\u001b[0;34m:\u001b[0m\u001b[0;34m-\u001b[0m\u001b[0;36m1\u001b[0m\u001b[0;34m]\u001b[0m\u001b[0;34m\u001b[0m\u001b[0m\n",
      "\u001b[0;31mValueError\u001b[0m: Invalid seat letter 7"
     ]
    }
   ],
   "source": [
    "f.allocate_seat('E27', 'Yukihiro Matsumoto')"
   ]
  },
  {
   "cell_type": "code",
   "execution_count": 5,
   "metadata": {},
   "outputs": [],
   "source": [
    "f.allocate_seat('1C', 'John McCarthy')\n",
    "f.allocate_seat('1D', 'Richard Hickey')"
   ]
  },
  {
   "cell_type": "code",
   "execution_count": 6,
   "metadata": {},
   "outputs": [
    {
     "ename": "ValueError",
     "evalue": "Invalid seat row D",
     "output_type": "error",
     "traceback": [
      "\u001b[0;31m---------------------------------------------------------------------------\u001b[0m",
      "\u001b[0;31mValueError\u001b[0m                                Traceback (most recent call last)",
      "\u001b[0;32m~/repos/github/learning-ml/python/pluralsight-python-fundamental/airtravel.py\u001b[0m in \u001b[0;36mallocate_seat\u001b[0;34m(self, seat, passenger)\u001b[0m\n\u001b[1;32m     50\u001b[0m         \u001b[0;32mtry\u001b[0m\u001b[0;34m:\u001b[0m\u001b[0;34m\u001b[0m\u001b[0m\n\u001b[0;32m---> 51\u001b[0;31m             \u001b[0mrow\u001b[0m \u001b[0;34m=\u001b[0m \u001b[0mint\u001b[0m\u001b[0;34m(\u001b[0m\u001b[0mrow_text\u001b[0m\u001b[0;34m)\u001b[0m\u001b[0;34m\u001b[0m\u001b[0m\n\u001b[0m\u001b[1;32m     52\u001b[0m         \u001b[0;32mexcept\u001b[0m \u001b[0mValueError\u001b[0m\u001b[0;34m:\u001b[0m\u001b[0;34m\u001b[0m\u001b[0m\n",
      "\u001b[0;31mValueError\u001b[0m: invalid literal for int() with base 10: 'D'",
      "\nDuring handling of the above exception, another exception occurred:\n",
      "\u001b[0;31mValueError\u001b[0m                                Traceback (most recent call last)",
      "\u001b[0;32m<ipython-input-6-92407d134de6>\u001b[0m in \u001b[0;36m<module>\u001b[0;34m()\u001b[0m\n\u001b[0;32m----> 1\u001b[0;31m \u001b[0mf\u001b[0m\u001b[0;34m.\u001b[0m\u001b[0mallocate_seat\u001b[0m\u001b[0;34m(\u001b[0m\u001b[0;34m'DD'\u001b[0m\u001b[0;34m,\u001b[0m \u001b[0;34m'Larry Wall'\u001b[0m\u001b[0;34m)\u001b[0m\u001b[0;34m\u001b[0m\u001b[0m\n\u001b[0m",
      "\u001b[0;32m~/repos/github/learning-ml/python/pluralsight-python-fundamental/airtravel.py\u001b[0m in \u001b[0;36mallocate_seat\u001b[0;34m(self, seat, passenger)\u001b[0m\n\u001b[1;32m     51\u001b[0m             \u001b[0mrow\u001b[0m \u001b[0;34m=\u001b[0m \u001b[0mint\u001b[0m\u001b[0;34m(\u001b[0m\u001b[0mrow_text\u001b[0m\u001b[0;34m)\u001b[0m\u001b[0;34m\u001b[0m\u001b[0m\n\u001b[1;32m     52\u001b[0m         \u001b[0;32mexcept\u001b[0m \u001b[0mValueError\u001b[0m\u001b[0;34m:\u001b[0m\u001b[0;34m\u001b[0m\u001b[0m\n\u001b[0;32m---> 53\u001b[0;31m             \u001b[0;32mraise\u001b[0m \u001b[0mValueError\u001b[0m\u001b[0;34m(\u001b[0m\u001b[0;34m\"Invalid seat row {}\"\u001b[0m\u001b[0;34m.\u001b[0m\u001b[0mformat\u001b[0m\u001b[0;34m(\u001b[0m\u001b[0mrow_text\u001b[0m\u001b[0;34m)\u001b[0m\u001b[0;34m)\u001b[0m\u001b[0;34m\u001b[0m\u001b[0m\n\u001b[0m\u001b[1;32m     54\u001b[0m \u001b[0;34m\u001b[0m\u001b[0m\n\u001b[1;32m     55\u001b[0m         \u001b[0;32mif\u001b[0m \u001b[0mrow\u001b[0m \u001b[0;32mnot\u001b[0m \u001b[0;32min\u001b[0m \u001b[0mrows\u001b[0m\u001b[0;34m:\u001b[0m\u001b[0;34m\u001b[0m\u001b[0m\n",
      "\u001b[0;31mValueError\u001b[0m: Invalid seat row D"
     ]
    }
   ],
   "source": [
    "f.allocate_seat('DD', 'Larry Wall')"
   ]
  },
  {
   "cell_type": "code",
   "execution_count": 7,
   "metadata": {},
   "outputs": [
    {
     "name": "stdout",
     "output_type": "stream",
     "text": [
      "[None,\n",
      " {'A': None,\n",
      "  'B': None,\n",
      "  'C': 'John McCarthy',\n",
      "  'D': 'Richard Hickey',\n",
      "  'E': None,\n",
      "  'F': None},\n",
      " {'A': None, 'B': None, 'C': None, 'D': None, 'E': None, 'F': None},\n",
      " {'A': None, 'B': None, 'C': None, 'D': None, 'E': None, 'F': None},\n",
      " {'A': None, 'B': None, 'C': None, 'D': None, 'E': None, 'F': None},\n",
      " {'A': None, 'B': None, 'C': None, 'D': None, 'E': None, 'F': None},\n",
      " {'A': None, 'B': None, 'C': None, 'D': None, 'E': None, 'F': None},\n",
      " {'A': None, 'B': None, 'C': None, 'D': None, 'E': None, 'F': None},\n",
      " {'A': None, 'B': None, 'C': None, 'D': None, 'E': None, 'F': None},\n",
      " {'A': None, 'B': None, 'C': None, 'D': None, 'E': None, 'F': None},\n",
      " {'A': None, 'B': None, 'C': None, 'D': None, 'E': None, 'F': None},\n",
      " {'A': None, 'B': None, 'C': None, 'D': None, 'E': None, 'F': None},\n",
      " {'A': 'Guido van Rossum',\n",
      "  'B': None,\n",
      "  'C': None,\n",
      "  'D': None,\n",
      "  'E': None,\n",
      "  'F': None},\n",
      " {'A': None, 'B': None, 'C': None, 'D': None, 'E': None, 'F': None},\n",
      " {'A': None, 'B': None, 'C': None, 'D': None, 'E': None, 'F': None},\n",
      " {'A': None,\n",
      "  'B': None,\n",
      "  'C': None,\n",
      "  'D': None,\n",
      "  'E': 'Anders Hejlsberg',\n",
      "  'F': 'Bjarne Stroustrup'},\n",
      " {'A': None, 'B': None, 'C': None, 'D': None, 'E': None, 'F': None},\n",
      " {'A': None, 'B': None, 'C': None, 'D': None, 'E': None, 'F': None},\n",
      " {'A': None, 'B': None, 'C': None, 'D': None, 'E': None, 'F': None},\n",
      " {'A': None, 'B': None, 'C': None, 'D': None, 'E': None, 'F': None},\n",
      " {'A': None, 'B': None, 'C': None, 'D': None, 'E': None, 'F': None},\n",
      " {'A': None, 'B': None, 'C': None, 'D': None, 'E': None, 'F': None},\n",
      " {'A': None, 'B': None, 'C': None, 'D': None, 'E': None, 'F': None}]\n"
     ]
    }
   ],
   "source": [
    "pp(f._seating)"
   ]
  },
  {
   "cell_type": "code",
   "execution_count": null,
   "metadata": {},
   "outputs": [],
   "source": [
    "# Refactor the class Flight and add a convenience function make_flight().\n",
    "\n",
    "# SAVE AS airtravel.py\n",
    "\n",
    "\"\"\"Model for aircraft flights\"\"\"\n",
    "\n",
    "class Flight:\n",
    "    \"\"\"A flight with a particular passenger aircraft.\"\"\"\n",
    "    \n",
    "    def __init__(self, number, aircraft):\n",
    "        if not number[:2].isalpha():\n",
    "            raise ValueError(\"No airline code in '{}'\".format(number))\n",
    "            \n",
    "        if not number[:2].isupper():\n",
    "            raise ValueError(\"Invalid airline code '{}\".format(number))\n",
    "            \n",
    "        if not (number[2:].isdigit() and int(number[2:]) <= 9999):\n",
    "            raise ValueError(\"Invalid route number '{}\".format(number))\n",
    "        \n",
    "        self._number = number\n",
    "        self._aircraft = aircraft\n",
    "        \n",
    "        rows, seats = self._aircraft.seating_plan()\n",
    "        self._seating = [None] + [ {letter: None for letter in seats} for _ in rows]\n",
    "    \n",
    "    def number(self):\n",
    "        return self._number\n",
    "    \n",
    "    def airline(self):\n",
    "        return self._number[:2]\n",
    "    \n",
    "    def aircraft_model(self):\n",
    "        return self._aircraft.model()\n",
    "        \n",
    "    def _parse_seat(self, seat):\n",
    "        \"\"\"Parse a seat designator into a valid row and letter.\n",
    "        \n",
    "        Args:\n",
    "            seat: A seat designator such as '12F'.\n",
    "            \n",
    "        Returns:\n",
    "            A tuple containing an integer and a string for row and seat.\n",
    "        \"\"\"\n",
    "        \n",
    "        row_numbers, seat_letters = self._aircraft.seating_plan()\n",
    "        \n",
    "        letter = seat[-1]\n",
    "        if letter not in seat_letters:\n",
    "            raise ValueError(\"Invalid seat letter {}\".format(letter))\n",
    "            \n",
    "        row_text = seat[:-1]\n",
    "        try:\n",
    "            row = int(row_text)\n",
    "        except ValueError:\n",
    "            raise ValueError(\"Invalid seat row {}\".format(row_text))\n",
    "            \n",
    "        if row not in row_numbers:\n",
    "            raise ValueError(\"Invalid row number {}\".format(row))\n",
    "            \n",
    "        return row, letter\n",
    "        \n",
    "    def allocate_seat(self, seat, passenger):\n",
    "        \"\"\"Allocate a seat to a passenger.\n",
    "        \n",
    "        Args:\n",
    "            seat: A seat designator such as '12C' or '21F'.\n",
    "            passenger: The passenger name.\n",
    "            \n",
    "        Raises:\n",
    "            ValueError: If the seat is unavailable.\n",
    "        \"\"\"\n",
    "        row, letter = self._parse_seat(seat)\n",
    "            \n",
    "        if self._seating[row][letter] is not None:\n",
    "            raise ValueError(\"Seat {} already occupied\".format(seat))\n",
    "            \n",
    "        self._seating[row][letter] = passenger\n",
    "        \n",
    "    def relocate_passenger(self, from_seat, to_seat):\n",
    "        \"\"\"Relocate a passenger to a different seat.\n",
    "        \n",
    "        Args:\n",
    "            from_seat: The existing seat designator for the \n",
    "                       passenger to be moved.\n",
    "                 \n",
    "            to_seat: The new seat designator.\n",
    "        \"\"\"\n",
    "        from_row, from_letter = self._parse_seat(from_seat)\n",
    "        if self._seating[from_row][from_letter] is None:\n",
    "            raise ValueError(\"No passenger to relocate in seat {}\".format(from_seat))\n",
    "            \n",
    "        to_row, to_letter = self._parse_seat(to_seat)\n",
    "        if self._seating[to_row][to_letter] is not None:\n",
    "            raise ValueError(\"Seat {} already occupied\".format(to_seat))\n",
    "            \n",
    "        self._seating[to_row][to_letter] = self._seating[from_row][from_letter]\n",
    "        self._seating[from_row][from_letter] = None\n",
    "    \n",
    "class Aircraft:\n",
    "    def __init__(self, registration, model, num_rows, num_seats_per_row):\n",
    "        self._registration = registration\n",
    "        self._model = model\n",
    "        self._num_rows = num_rows\n",
    "        self._num_seats_per_row = num_seats_per_row\n",
    "        \n",
    "    def registration(self):\n",
    "        return self._registration\n",
    "    \n",
    "    def model(self):\n",
    "        return self._model\n",
    "    \n",
    "    def seating_plan(self):\n",
    "        return (range(1, self._num_rows + 1), \n",
    "                # 'I' is omited to avoid confusion with '1'.\n",
    "                \"ABCDEFGHJ\"[:self._num_seats_per_row])   \n",
    "                \n",
    "def make_flight():\n",
    "    f = Flight(\"BA758\", Aircraft(\"G-EUPT\", \"Airbus A319\", num_rows=22, num_seats_per_row=6))\n",
    "    f.allocate_seat('12A', 'Guido van Rossum')\n",
    "    f.allocate_seat('15F', 'Bjarne Stroustrup')\n",
    "    f.allocate_seat('15E', 'Anders Hejlsberg')\n",
    "    f.allocate_seat('1C', 'John McCarthy')\n",
    "    f.allocate_seat('1D', 'Richard Hickey')\n",
    "    return f"
   ]
  },
  {
   "cell_type": "code",
   "execution_count": 1,
   "metadata": {},
   "outputs": [
    {
     "data": {
      "text/plain": [
       "<airtravel.Flight at 0x7fa6a868b048>"
      ]
     },
     "execution_count": 1,
     "metadata": {},
     "output_type": "execute_result"
    }
   ],
   "source": [
    "from airtravel import make_flight\n",
    "\n",
    "f = make_flight()\n",
    "f"
   ]
  },
  {
   "cell_type": "code",
   "execution_count": 3,
   "metadata": {},
   "outputs": [],
   "source": [
    "f.relocate_passenger('12A', '15D')"
   ]
  },
  {
   "cell_type": "code",
   "execution_count": 5,
   "metadata": {},
   "outputs": [
    {
     "name": "stdout",
     "output_type": "stream",
     "text": [
      "[None,\n",
      " {'A': None,\n",
      "  'B': None,\n",
      "  'C': 'John McCarthy',\n",
      "  'D': 'Richard Hickey',\n",
      "  'E': None,\n",
      "  'F': None},\n",
      " {'A': None, 'B': None, 'C': None, 'D': None, 'E': None, 'F': None},\n",
      " {'A': None, 'B': None, 'C': None, 'D': None, 'E': None, 'F': None},\n",
      " {'A': None, 'B': None, 'C': None, 'D': None, 'E': None, 'F': None},\n",
      " {'A': None, 'B': None, 'C': None, 'D': None, 'E': None, 'F': None},\n",
      " {'A': None, 'B': None, 'C': None, 'D': None, 'E': None, 'F': None},\n",
      " {'A': None, 'B': None, 'C': None, 'D': None, 'E': None, 'F': None},\n",
      " {'A': None, 'B': None, 'C': None, 'D': None, 'E': None, 'F': None},\n",
      " {'A': None, 'B': None, 'C': None, 'D': None, 'E': None, 'F': None},\n",
      " {'A': None, 'B': None, 'C': None, 'D': None, 'E': None, 'F': None},\n",
      " {'A': None, 'B': None, 'C': None, 'D': None, 'E': None, 'F': None},\n",
      " {'A': None, 'B': None, 'C': None, 'D': None, 'E': None, 'F': None},\n",
      " {'A': None, 'B': None, 'C': None, 'D': None, 'E': None, 'F': None},\n",
      " {'A': None, 'B': None, 'C': None, 'D': None, 'E': None, 'F': None},\n",
      " {'A': None,\n",
      "  'B': None,\n",
      "  'C': None,\n",
      "  'D': 'Guido van Rossum',\n",
      "  'E': 'Anders Hejlsberg',\n",
      "  'F': 'Bjarne Stroustrup'},\n",
      " {'A': None, 'B': None, 'C': None, 'D': None, 'E': None, 'F': None},\n",
      " {'A': None, 'B': None, 'C': None, 'D': None, 'E': None, 'F': None},\n",
      " {'A': None, 'B': None, 'C': None, 'D': None, 'E': None, 'F': None},\n",
      " {'A': None, 'B': None, 'C': None, 'D': None, 'E': None, 'F': None},\n",
      " {'A': None, 'B': None, 'C': None, 'D': None, 'E': None, 'F': None},\n",
      " {'A': None, 'B': None, 'C': None, 'D': None, 'E': None, 'F': None},\n",
      " {'A': None, 'B': None, 'C': None, 'D': None, 'E': None, 'F': None}]\n"
     ]
    }
   ],
   "source": [
    "from pprint import pprint as pp\n",
    "pp(f._seating)"
   ]
  },
  {
   "cell_type": "code",
   "execution_count": null,
   "metadata": {},
   "outputs": [],
   "source": [
    "# Add a new method num_available_seats() to the class Flight\n",
    "\n",
    "class Flight:\n",
    "    \n",
    "    def num_available_seats(self):\n",
    "        return sum(sum(1 for s in row.values() if s is None)\n",
    "                   for row in self._seating if row is not None)"
   ]
  },
  {
   "cell_type": "code",
   "execution_count": 3,
   "metadata": {},
   "outputs": [
    {
     "data": {
      "text/plain": [
       "127"
      ]
     },
     "execution_count": 3,
     "metadata": {},
     "output_type": "execute_result"
    }
   ],
   "source": [
    "from airtravel import make_flight\n",
    "\n",
    "f = make_flight()\n",
    "f.num_available_seats()"
   ]
  },
  {
   "cell_type": "code",
   "execution_count": 4,
   "metadata": {},
   "outputs": [
    {
     "data": {
      "text/plain": [
       "127"
      ]
     },
     "execution_count": 4,
     "metadata": {},
     "output_type": "execute_result"
    }
   ],
   "source": [
    "22 * 6 - 5"
   ]
  },
  {
   "cell_type": "markdown",
   "metadata": {},
   "source": [
    "## 9.8 OO with function objects\n",
    "\n",
    "(1) Don't feel compelled to create classes without good reason.\n",
    "\n",
    "(2) Tell! Don't ask.\n",
    "\n",
    "* Tell objects what to do.\n",
    "* Don't ask for their state."
   ]
  },
  {
   "cell_type": "code",
   "execution_count": null,
   "metadata": {},
   "outputs": [],
   "source": [
    "# SAVE AS airtravel.py\n",
    "\n",
    "\"\"\"Model for aircraft flights\"\"\"\n",
    "\n",
    "class Flight:\n",
    "    \"\"\"A flight with a particular passenger aircraft.\"\"\"\n",
    "    \n",
    "    def __init__(self, number, aircraft):\n",
    "        if not number[:2].isalpha():\n",
    "            raise ValueError(\"No airline code in '{}'\".format(number))\n",
    "            \n",
    "        if not number[:2].isupper():\n",
    "            raise ValueError(\"Invalid airline code '{}\".format(number))\n",
    "            \n",
    "        if not (number[2:].isdigit() and int(number[2:]) <= 9999):\n",
    "            raise ValueError(\"Invalid route number '{}\".format(number))\n",
    "        \n",
    "        self._number = number\n",
    "        self._aircraft = aircraft\n",
    "        \n",
    "        rows, seats = self._aircraft.seating_plan()\n",
    "        self._seating = [None] + [ {letter: None for letter in seats} for _ in rows]\n",
    "    \n",
    "    def number(self):\n",
    "        return self._number\n",
    "    \n",
    "    def airline(self):\n",
    "        return self._number[:2]\n",
    "    \n",
    "    def aircraft_model(self):\n",
    "        return self._aircraft.model()\n",
    "        \n",
    "    def _parse_seat(self, seat):\n",
    "        \"\"\"Parse a seat designator into a valid row and letter.\n",
    "        \n",
    "        Args:\n",
    "            seat: A seat designator such as '12F'.\n",
    "            \n",
    "        Returns:\n",
    "            A tuple containing an integer and a string for row and seat.\n",
    "        \"\"\"\n",
    "        \n",
    "        row_numbers, seat_letters = self._aircraft.seating_plan()\n",
    "        \n",
    "        letter = seat[-1]\n",
    "        if letter not in seat_letters:\n",
    "            raise ValueError(\"Invalid seat letter {}\".format(letter))\n",
    "            \n",
    "        row_text = seat[:-1]\n",
    "        try:\n",
    "            row = int(row_text)\n",
    "        except ValueError:\n",
    "            raise ValueError(\"Invalid seat row {}\".format(row_text))\n",
    "            \n",
    "        if row not in row_numbers:\n",
    "            raise ValueError(\"Invalid row number {}\".format(row))\n",
    "            \n",
    "        return row, letter\n",
    "        \n",
    "    def allocate_seat(self, seat, passenger):\n",
    "        \"\"\"Allocate a seat to a passenger.\n",
    "        \n",
    "        Args:\n",
    "            seat: A seat designator such as '12C' or '21F'.\n",
    "            passenger: The passenger name.\n",
    "            \n",
    "        Raises:\n",
    "            ValueError: If the seat is unavailable.\n",
    "        \"\"\"\n",
    "        row, letter = self._parse_seat(seat)\n",
    "            \n",
    "        if self._seating[row][letter] is not None:\n",
    "            raise ValueError(\"Seat {} already occupied\".format(seat))\n",
    "            \n",
    "        self._seating[row][letter] = passenger\n",
    "        \n",
    "    def relocate_passenger(self, from_seat, to_seat):\n",
    "        \"\"\"Relocate a passenger to a different seat.\n",
    "        \n",
    "        Args:\n",
    "            from_seat: The existing seat designator for the \n",
    "                       passenger to be moved.\n",
    "                 \n",
    "            to_seat: The new seat designator.\n",
    "        \"\"\"\n",
    "        from_row, from_letter = self._parse_seat(from_seat)\n",
    "        if self._seating[from_row][from_letter] is None:\n",
    "            raise ValueError(\"No passenger to relocate in seat {}\".format(from_seat))\n",
    "            \n",
    "        to_row, to_letter = self._parse_seat(to_seat)\n",
    "        if self._seating[to_row][to_letter] is not None:\n",
    "            raise ValueError(\"Seat {} already occupied\".format(to_seat))\n",
    "            \n",
    "        self._seating[to_row][to_letter] = self._seating[from_row][from_letter]\n",
    "        self._seating[from_row][from_letter] = None\n",
    "        \n",
    "    def num_available_seats(self):\n",
    "        return sum(sum(1 for s in row.values() if s is None) \n",
    "                   for row in self._seating if row is not None)\n",
    "    \n",
    "    def make_boarding_cards(self, card_printer):\n",
    "        for passenger, seat in sorted(self._passenger_seats()):\n",
    "            card_printer(passenger, seat, self.number(), self.aircraft_model())\n",
    "            \n",
    "    def _passenger_seats(self):\n",
    "        \"\"\"An iterable series of passenger seating allocations.\"\"\"\n",
    "        row_numbers, seat_letters = self._aircraft.seating_plan()\n",
    "        for row in row_numbers:\n",
    "            for letter in seat_letters:\n",
    "                passenger = self._seating[row][letter]\n",
    "                if passenger is not None:\n",
    "                    yield (passenger, \"{}{}\".format(row, letter))\n",
    "    \n",
    "class Aircraft:\n",
    "    def __init__(self, registration, model, num_rows, num_seats_per_row):\n",
    "        self._registration = registration\n",
    "        self._model = model\n",
    "        self._num_rows = num_rows\n",
    "        self._num_seats_per_row = num_seats_per_row\n",
    "        \n",
    "    def registration(self):\n",
    "        return self._registration\n",
    "    \n",
    "    def model(self):\n",
    "        return self._model\n",
    "    \n",
    "    def seating_plan(self):\n",
    "        return (range(1, self._num_rows + 1), \n",
    "                # 'I' is omited to avoid confusion with '1'.\n",
    "                \"ABCDEFGHJ\"[:self._num_seats_per_row])   \n",
    "                \n",
    "def make_flight():\n",
    "    f = Flight(\"BA758\", Aircraft(\"G-EUPT\", \"Airbus A319\", num_rows=22, num_seats_per_row=6))\n",
    "    f.allocate_seat('12A', 'Guido van Rossum')\n",
    "    f.allocate_seat('15F', 'Bjarne Stroustrup')\n",
    "    f.allocate_seat('15E', 'Anders Hejlsberg')\n",
    "    f.allocate_seat('1C', 'John McCarthy')\n",
    "    f.allocate_seat('1D', 'Richard Hickey')\n",
    "    return f\n",
    "    \n",
    "def console_card_printer(passenger, seat, flight_number, aircraft):\n",
    "    output = \"| Name: {0}\"     \\\n",
    "             \"  Flight: {1}\"   \\\n",
    "             \"  Seat: {2}\"     \\\n",
    "             \"  Aircraft: {3}\" \\\n",
    "             \" |\".format(passenger, flight_number, seat, aircraft)\n",
    "    banner = '+' + '-' * (len(output) - 2) + '+'\n",
    "    border = '|' + ' ' * (len(output) - 2) + '|'         \n",
    "    lines = [banner, border, output, border, banner]\n",
    "    card = '\\n'.join(lines)\n",
    "    print(card)\n",
    "    print()"
   ]
  },
  {
   "cell_type": "code",
   "execution_count": 1,
   "metadata": {},
   "outputs": [
    {
     "name": "stdout",
     "output_type": "stream",
     "text": [
      "+-------------------------------------------------------------------------+\n",
      "|                                                                         |\n",
      "| Name: Anders Hejlsberg  Flight: BA758  Seat: 15E  Aircraft: Airbus A319 |\n",
      "|                                                                         |\n",
      "+-------------------------------------------------------------------------+\n",
      "\n",
      "+--------------------------------------------------------------------------+\n",
      "|                                                                          |\n",
      "| Name: Bjarne Stroustrup  Flight: BA758  Seat: 15F  Aircraft: Airbus A319 |\n",
      "|                                                                          |\n",
      "+--------------------------------------------------------------------------+\n",
      "\n",
      "+-------------------------------------------------------------------------+\n",
      "|                                                                         |\n",
      "| Name: Guido van Rossum  Flight: BA758  Seat: 12A  Aircraft: Airbus A319 |\n",
      "|                                                                         |\n",
      "+-------------------------------------------------------------------------+\n",
      "\n",
      "+---------------------------------------------------------------------+\n",
      "|                                                                     |\n",
      "| Name: John McCarthy  Flight: BA758  Seat: 1C  Aircraft: Airbus A319 |\n",
      "|                                                                     |\n",
      "+---------------------------------------------------------------------+\n",
      "\n",
      "+----------------------------------------------------------------------+\n",
      "|                                                                      |\n",
      "| Name: Richard Hickey  Flight: BA758  Seat: 1D  Aircraft: Airbus A319 |\n",
      "|                                                                      |\n",
      "+----------------------------------------------------------------------+\n",
      "\n"
     ]
    }
   ],
   "source": [
    "from airtravel import (make_flight, console_card_printer)\n",
    "\n",
    "f = make_flight()\n",
    "f.make_boarding_cards(console_card_printer)"
   ]
  },
  {
   "cell_type": "markdown",
   "metadata": {},
   "source": [
    "## 9.9 Polymorphism and duck typing\n",
    "\n",
    "### 9.9.1 Polymorphism\n",
    "\n",
    "Using objects of **different types** through a **common interface**.\n",
    "\n",
    "### 9.9.2 Duck typing\n",
    "\n",
    "\"When I see a bird that walks like a duck and swims like a duck and quacks like a duck, I call that bird a duck.\"\n",
    "\n",
    "                                                                    --James Whitcomb Riley\n",
    "                                                                    \n",
    "(1) Polymorphism in Python is supported by duck typing. \n",
    "\n",
    "(2) An object's fitness for purpose is determined at the **time of use**. not at the compile time."
   ]
  },
  {
   "cell_type": "code",
   "execution_count": null,
   "metadata": {},
   "outputs": [],
   "source": [
    "class AirbusA319:\n",
    "    def __init__(self, registration):\n",
    "        self._registration = registration\n",
    "        \n",
    "    def registration(self):\n",
    "        return self._registration\n",
    "    \n",
    "    def model(self):\n",
    "        return \"Airbus A319\"\n",
    "    \n",
    "    def seating_plan(self):\n",
    "        return range(1, 23), \"ABCDEF\"\n",
    "\n",
    "class Boeing777:\n",
    "    def __init__(self, registration):\n",
    "        self._registration = registration\n",
    "        \n",
    "    def registration(self):\n",
    "        return self._registration\n",
    "    \n",
    "    def model(self):\n",
    "        return \"Boeing 777\"\n",
    "    \n",
    "    def seating_plan(self):\n",
    "        # For simplicity's sake, we ignore complex \n",
    "        # seating arrangement for first-class.\n",
    "        return range(1, 56), \"ABCDEFGHJK\"\n",
    "    \n",
    "def make_flights():\n",
    "    f = Flight(\"BA758\", AirbusA319(\"G-EUPT\"))\n",
    "    f.allocate_seat('12A', 'Guido van Rossum')\n",
    "    f.allocate_seat('15F', 'Bjarne Stroustrup')\n",
    "    f.allocate_seat('15E', 'Anders Hejlsberg')\n",
    "    f.allocate_seat('1C', 'John McCarthy')\n",
    "    f.allocate_seat('1D', 'Richard Hickey')\n",
    "    \n",
    "    g = Flight(\"AF72\", Boeing777(\"F-GSPS\"))\n",
    "    g.allocate_seat('55K', 'Larry Wall')\n",
    "    g.allocate_seat('33G', 'Yukihiro Matsumoto')\n",
    "    g.allocate_seat('4B', 'Brian Kernighan')\n",
    "    g.allocate_seat('4A', 'Dennis Ritchie')\n",
    "    \n",
    "    return f, g"
   ]
  },
  {
   "cell_type": "code",
   "execution_count": 1,
   "metadata": {},
   "outputs": [
    {
     "data": {
      "text/plain": [
       "'Airbus A319'"
      ]
     },
     "execution_count": 1,
     "metadata": {},
     "output_type": "execute_result"
    }
   ],
   "source": [
    "from airtravel import *\n",
    "\n",
    "f, g = make_flights()\n",
    "f.aircraft_model()"
   ]
  },
  {
   "cell_type": "code",
   "execution_count": 2,
   "metadata": {},
   "outputs": [
    {
     "data": {
      "text/plain": [
       "'Boeing 777'"
      ]
     },
     "execution_count": 2,
     "metadata": {},
     "output_type": "execute_result"
    }
   ],
   "source": [
    "g.aircraft_model()"
   ]
  },
  {
   "cell_type": "code",
   "execution_count": 3,
   "metadata": {},
   "outputs": [
    {
     "data": {
      "text/plain": [
       "127"
      ]
     },
     "execution_count": 3,
     "metadata": {},
     "output_type": "execute_result"
    }
   ],
   "source": [
    "f.num_available_seats()"
   ]
  },
  {
   "cell_type": "code",
   "execution_count": 4,
   "metadata": {},
   "outputs": [
    {
     "data": {
      "text/plain": [
       "546"
      ]
     },
     "execution_count": 4,
     "metadata": {},
     "output_type": "execute_result"
    }
   ],
   "source": [
    "g.num_available_seats()"
   ]
  },
  {
   "cell_type": "markdown",
   "metadata": {},
   "source": [
    "## 9.10 Inheritance and implementation sharing\n",
    "\n",
    "### 9.10.1 Inheritance\n",
    "\n",
    "(1) A sub-class can derive from a base-class, inheriting its behavior and making behavior specific to the sub-class.\n",
    "\n",
    "(2) Python use late binding.\n",
    "\n",
    "### 9.10.2 In Python inheritance is most useful for sharing implementation."
   ]
  },
  {
   "cell_type": "code",
   "execution_count": null,
   "metadata": {},
   "outputs": [],
   "source": [
    "class Aircraft:\n",
    "\n",
    "    def __init__(self, registration):\n",
    "        self._registration = registration\n",
    "        \n",
    "    def registration(self):\n",
    "        return self._registration\n",
    "\n",
    "    def num_seats(self):\n",
    "        # seating_plan() is not defined in the class Aircraft, \n",
    "        # so the class Aircraft can't be used alone.\n",
    "        rows, row_seats = self.seating_plan()\n",
    "        return len(rows) * len(row_seats)\n",
    "                \n",
    "class AirbusA319(Aircraft):\n",
    "    \n",
    "    def model(self):\n",
    "        return \"Airbus A319\"\n",
    "    \n",
    "    def seating_plan(self):\n",
    "        return range(1, 23), \"ABCDEF\"\n",
    "\n",
    "class Boeing777(Aircraft):\n",
    "    \n",
    "    def model(self):\n",
    "        return \"Boeing 777\"\n",
    "    \n",
    "    def seating_plan(self):\n",
    "        # For simplicity's sake, we ignore complex \n",
    "        # seating arrangement for first-class.\n",
    "        return range(1, 56), \"ABCDEFGHJK\""
   ]
  },
  {
   "cell_type": "code",
   "execution_count": 1,
   "metadata": {},
   "outputs": [
    {
     "data": {
      "text/plain": [
       "132"
      ]
     },
     "execution_count": 1,
     "metadata": {},
     "output_type": "execute_result"
    }
   ],
   "source": [
    "from airtravel import *\n",
    "\n",
    "a = AirbusA319(\"G-EZBT\")\n",
    "a.num_seats()"
   ]
  },
  {
   "cell_type": "code",
   "execution_count": 2,
   "metadata": {},
   "outputs": [
    {
     "data": {
      "text/plain": [
       "550"
      ]
     },
     "execution_count": 2,
     "metadata": {},
     "output_type": "execute_result"
    }
   ],
   "source": [
    "b = Boeing777(\"N717AN\")\n",
    "b.num_seats()"
   ]
  }
 ],
 "metadata": {
  "kernelspec": {
   "display_name": "Python [conda env:ml]",
   "language": "python",
   "name": "conda-env-ml-py"
  },
  "language_info": {
   "codemirror_mode": {
    "name": "ipython",
    "version": 3
   },
   "file_extension": ".py",
   "mimetype": "text/x-python",
   "name": "python",
   "nbconvert_exporter": "python",
   "pygments_lexer": "ipython3",
   "version": "3.6.4"
  }
 },
 "nbformat": 4,
 "nbformat_minor": 2
}
