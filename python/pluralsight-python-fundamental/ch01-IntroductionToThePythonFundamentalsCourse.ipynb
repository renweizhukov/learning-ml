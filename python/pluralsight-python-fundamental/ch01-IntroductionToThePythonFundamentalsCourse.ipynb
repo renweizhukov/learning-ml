{
 "cells": [
  {
   "cell_type": "markdown",
   "metadata": {},
   "source": [
    "# Chapter 1. Introduction to the Python Fundamental Course\n",
    "\n",
    "## 1.1 Python overview (Part 1)\n",
    "\n",
    "(1) A programming language firstly developed by Guido van Rossum (a.k.a. Benevolent Dictator for Life or more commonly BDFL) in Netherlands.\n",
    "\n",
    "(2) Non-profit Python Software Foundation\n",
    "\n",
    "(3) Strongly typed but dynamically-typed, i.e., duck-typing\n",
    "\n",
    "(4) Flexible and adaptable but not suitable for extremely time-sensitive or memory-constraint environment.\n",
    "\n",
    "(5) Presumably interpreted language but actually compiled into a form of byte code before being executed.\n",
    "\n",
    "(6) Clear, readable, and expressive syntax\n",
    "\n",
    "(7) Use white spaces to delimit code blocks.\n",
    "\n",
    "(8) Multiple implementations:\n",
    "\n",
    "* CPython in C\n",
    "* Jython in Java\n",
    "* IronPython in C#\n",
    "* pypy in RPython\n",
    "\n",
    "(9) Python 2 vs. Python 3\n",
    "\n",
    "* They are incompatible.\n",
    "\n",
    "* Python 3 is the future. Should stop using Python 2 if possible.\n",
    "\n",
    "## 1.2 Python overview (Part 2)\n",
    "\n",
    "(1) Batteries included: many powerful Python standard libraries\n",
    "\n",
    "(2) Pythonic: principle of clarity and readability\n",
    "\n",
    "(3) The Zen of Python"
   ]
  }
 ],
 "metadata": {
  "kernelspec": {
   "display_name": "Python [conda env:ml]",
   "language": "python",
   "name": "conda-env-ml-py"
  },
  "language_info": {
   "codemirror_mode": {
    "name": "ipython",
    "version": 3
   },
   "file_extension": ".py",
   "mimetype": "text/x-python",
   "name": "python",
   "nbconvert_exporter": "python",
   "pygments_lexer": "ipython3",
   "version": "3.6.4"
  }
 },
 "nbformat": 4,
 "nbformat_minor": 2
}
