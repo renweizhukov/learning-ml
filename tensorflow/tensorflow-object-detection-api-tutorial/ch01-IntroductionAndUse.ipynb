{
 "cells": [
  {
   "cell_type": "markdown",
   "metadata": {
    "heading_collapsed": true
   },
   "source": [
    "# Chapter 1. Introduction and Use\n",
    "\n",
    "## 1.1 Install TensorFlow and all of the dependencies.\n",
    "\n",
    "### 1.1.1 For CPU TensorFlow\n",
    "\n",
    "(1) For pip:\n",
    "\n",
    "```bash\n",
    "$ pip install tensorflow\n",
    "$ pip install pillow\n",
    "$ pip install lxml\n",
    "$ pip install jupyter\n",
    "$ pip install matplotlib\n",
    "```\n",
    "\n",
    "(2) For conda:\n",
    "\n",
    "```bash\n",
    "$ conda install tensorflow pillow lxml matplotlib\n",
    "```\n",
    "\n",
    "### 1.1.2 For GPU TensorFlow\n",
    "\n",
    "(1) For Ubuntu:\n",
    "\n",
    "https://pythonprogramming.net/how-to-cuda-gpu-tensorflow-deep-learning-tutorial/\n",
    "\n",
    "(2) For Windows:\n",
    "\n",
    "https://www.youtube.com/watch?v=r7-WPbx8VuY\n",
    "\n",
    "### 1.1.3 PaperSpace\n",
    "\n",
    "If you do not have a powerful enough GPU to run the GPU version of TensorFlow, one option is to use [PaperSpace](https://goo.gl/h7SSkv).\n",
    "\n",
    "## 1.2 Clone the TensorFlow models repository.\n",
    "\n",
    "```bash\n",
    "$ git clone https://github.com/tensorflow/models.git\n",
    "```\n",
    "\n",
    "## 1.3 Use TensorFlow\n",
    "\n",
    "### 1.3.1 Compile protocol buffer files.\n",
    "\n",
    "In the TensorFlow models repository:\n",
    "\n",
    "```bash\n",
    "$ cd ./research\n",
    "$ protoc object_detection/protos/*.proto --python_out=.\n",
    "$ export PYTHONPATH=$PYTHONPATH:`pwd`:`pwd`/slim\n",
    "```\n",
    "\n",
    "### 1.3.2 Run the jupyter notebook of the object detection tutorial.\n",
    "\n",
    "Open `./research/object_detection/object_detection_tutorial.ipynb` wit the Jupyter Notebook, select `cell` in the main menu, and choose `run all`."
   ]
  }
 ],
 "metadata": {
  "kernelspec": {
   "display_name": "Python [conda env:ml]",
   "language": "python",
   "name": "conda-env-ml-py"
  },
  "language_info": {
   "codemirror_mode": {
    "name": "ipython",
    "version": 3
   },
   "file_extension": ".py",
   "mimetype": "text/x-python",
   "name": "python",
   "nbconvert_exporter": "python",
   "pygments_lexer": "ipython3",
   "version": "3.6.4"
  },
  "toc": {
   "nav_menu": {},
   "number_sections": false,
   "sideBar": true,
   "skip_h1_title": false,
   "title_cell": "Table of Contents",
   "title_sidebar": "Contents",
   "toc_cell": false,
   "toc_position": {},
   "toc_section_display": true,
   "toc_window_display": true
  }
 },
 "nbformat": 4,
 "nbformat_minor": 2
}
