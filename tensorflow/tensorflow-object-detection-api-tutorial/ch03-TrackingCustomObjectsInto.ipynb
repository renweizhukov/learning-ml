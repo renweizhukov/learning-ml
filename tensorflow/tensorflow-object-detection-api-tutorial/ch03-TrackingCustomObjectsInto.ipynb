{
 "cells": [
  {
   "cell_type": "markdown",
   "metadata": {},
   "source": [
    "# Chapter 3. Tracking Custom Objects Intro\n",
    "\n",
    "## 3.1 Collect a few hundred images that contain your object.\n",
    "\n",
    "e.g., 200 airplane pictures from 101 Object Categories.\n",
    "\n",
    "## 3.2 Label the images with [labelImg](https://github.com/tzutalin/labelImg).\n",
    "\n",
    "### 3.2.1 Install labelImg\n",
    "\n",
    "`pip install labelImg` works but `labelImg` returns an error like `ModuleNotFoundError: No module named 'resources'` (see https://github.com/tzutalin/labelImg/issues/106), so we have to install from source:\n",
    "\n",
    "```bash\n",
    "$ git clone https://github.com/tzutalin/labelImg\n",
    "\n",
    "$ sudo apt install pyqt5-dev-tools\n",
    "\n",
    "# lxml should already be installed in ch01.\n",
    "$ pip install lxml \n",
    "\n",
    "$ make qt5py3\n",
    "\n",
    "$ python labelImg.py\n",
    "```\n",
    "\n",
    "### 3.2.2 Use labelImg to label the images.\n",
    "\n",
    "(1) `open dir`\n",
    "\n",
    "(2) `create rectbox`\n",
    "\n",
    "key `w` to draw the box and `ctrl+s` to save.\n",
    "\n",
    "(3) Separate the labelled images into training and testing groups.\n",
    "\n",
    "Usually copy about 10% of your images and their label XML files to the test folder."
   ]
  }
 ],
 "metadata": {
  "kernelspec": {
   "display_name": "Python [conda env:ml]",
   "language": "python",
   "name": "conda-env-ml-py"
  },
  "language_info": {
   "codemirror_mode": {
    "name": "ipython",
    "version": 3
   },
   "file_extension": ".py",
   "mimetype": "text/x-python",
   "name": "python",
   "nbconvert_exporter": "python",
   "pygments_lexer": "ipython3",
   "version": "3.6.4"
  },
  "toc": {
   "nav_menu": {},
   "number_sections": false,
   "sideBar": true,
   "skip_h1_title": false,
   "title_cell": "Table of Contents",
   "title_sidebar": "Contents",
   "toc_cell": false,
   "toc_position": {},
   "toc_section_display": true,
   "toc_window_display": true
  }
 },
 "nbformat": 4,
 "nbformat_minor": 2
}
